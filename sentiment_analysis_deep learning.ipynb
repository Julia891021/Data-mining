{
 "cells": [
  {
   "cell_type": "markdown",
   "id": "portuguese-works",
   "metadata": {},
   "source": [
    "## Import Library"
   ]
  },
  {
   "cell_type": "code",
   "execution_count": 1,
   "id": "celtic-split",
   "metadata": {},
   "outputs": [],
   "source": [
    "import pandas as pd\n",
    "import numpy as np\n",
    "\n",
    "#去除停頓詞\n",
    "from sklearn.feature_extraction.text import CountVectorizer\n",
    "from nltk.corpus import stopwords\n",
    "import nltk\n",
    "import spacy  #要先下載好model\n",
    "from nltk import word_tokenize\n",
    "\n",
    "#文字轉向量\n",
    "from gensim.utils import simple_preprocess\n",
    "from gensim import models\n",
    "from gensim.models.word2vec import Word2Vec\n",
    "import gensim\n",
    "from keras.preprocessing.text import Tokenizer\n",
    "from keras.preprocessing.sequence import pad_sequences\n",
    "\n",
    "#Split train test set\n",
    "from sklearn.model_selection import train_test_split\n",
    "\n",
    "#Create model\n",
    "from keras.models import Sequential\n",
    "from keras.layers import Dense, Dropout, Conv1D, Conv2D, MaxPool2D, MaxPooling1D, Flatten\n",
    "from keras.layers import ZeroPadding2D, Activation\n",
    "from keras.layers.embeddings import Embedding \n",
    "from keras.layers import LSTM\n",
    "from tensorflow import keras\n",
    "\n",
    "#plot\n",
    "import matplotlib.pyplot as plt\n",
    "\n",
    "#評估模型好壞\n",
    "from sklearn.metrics import accuracy_score\n",
    "import sklearn.metrics as metrics\n"
   ]
  },
  {
   "cell_type": "code",
   "execution_count": 2,
   "id": "artificial-activity",
   "metadata": {},
   "outputs": [],
   "source": [
    "#關閉煩人的警告視窗!!!!!\n",
    "import warnings\n",
    "warnings.filterwarnings('ignore')"
   ]
  },
  {
   "cell_type": "code",
   "execution_count": 3,
   "id": "promising-values",
   "metadata": {},
   "outputs": [
    {
     "data": {
      "text/html": [
       "<div>\n",
       "<style scoped>\n",
       "    .dataframe tbody tr th:only-of-type {\n",
       "        vertical-align: middle;\n",
       "    }\n",
       "\n",
       "    .dataframe tbody tr th {\n",
       "        vertical-align: top;\n",
       "    }\n",
       "\n",
       "    .dataframe thead th {\n",
       "        text-align: right;\n",
       "    }\n",
       "</style>\n",
       "<table border=\"1\" class=\"dataframe\">\n",
       "  <thead>\n",
       "    <tr style=\"text-align: right;\">\n",
       "      <th></th>\n",
       "      <th>business_id</th>\n",
       "      <th>date</th>\n",
       "      <th>review_id</th>\n",
       "      <th>stars</th>\n",
       "      <th>text</th>\n",
       "      <th>type</th>\n",
       "      <th>user_id</th>\n",
       "      <th>cool</th>\n",
       "      <th>useful</th>\n",
       "      <th>funny</th>\n",
       "    </tr>\n",
       "  </thead>\n",
       "  <tbody>\n",
       "    <tr>\n",
       "      <th>0</th>\n",
       "      <td>9yKzy9PApeiPPOUJEtnvkg</td>\n",
       "      <td>2011-01-26</td>\n",
       "      <td>fWKvX83p0-ka4JS3dc6E5A</td>\n",
       "      <td>5</td>\n",
       "      <td>My wife took me here on my birthday for breakf...</td>\n",
       "      <td>review</td>\n",
       "      <td>rLtl8ZkDX5vH5nAx9C3q5Q</td>\n",
       "      <td>2</td>\n",
       "      <td>5</td>\n",
       "      <td>0</td>\n",
       "    </tr>\n",
       "    <tr>\n",
       "      <th>1</th>\n",
       "      <td>ZRJwVLyzEJq1VAihDhYiow</td>\n",
       "      <td>2011-07-27</td>\n",
       "      <td>IjZ33sJrzXqU-0X6U8NwyA</td>\n",
       "      <td>5</td>\n",
       "      <td>I have no idea why some people give bad review...</td>\n",
       "      <td>review</td>\n",
       "      <td>0a2KyEL0d3Yb1V6aivbIuQ</td>\n",
       "      <td>0</td>\n",
       "      <td>0</td>\n",
       "      <td>0</td>\n",
       "    </tr>\n",
       "    <tr>\n",
       "      <th>2</th>\n",
       "      <td>6oRAC4uyJCsJl1X0WZpVSA</td>\n",
       "      <td>2012-06-14</td>\n",
       "      <td>IESLBzqUCLdSzSqm0eCSxQ</td>\n",
       "      <td>4</td>\n",
       "      <td>love the gyro plate. Rice is so good and I als...</td>\n",
       "      <td>review</td>\n",
       "      <td>0hT2KtfLiobPvh6cDC8JQg</td>\n",
       "      <td>0</td>\n",
       "      <td>1</td>\n",
       "      <td>0</td>\n",
       "    </tr>\n",
       "    <tr>\n",
       "      <th>3</th>\n",
       "      <td>_1QQZuf4zZOyFCvXc0o6Vg</td>\n",
       "      <td>2010-05-27</td>\n",
       "      <td>G-WvGaISbqqaMHlNnByodA</td>\n",
       "      <td>5</td>\n",
       "      <td>Rosie, Dakota, and I LOVE Chaparral Dog Park!!...</td>\n",
       "      <td>review</td>\n",
       "      <td>uZetl9T0NcROGOyFfughhg</td>\n",
       "      <td>1</td>\n",
       "      <td>2</td>\n",
       "      <td>0</td>\n",
       "    </tr>\n",
       "    <tr>\n",
       "      <th>4</th>\n",
       "      <td>6ozycU1RpktNG2-1BroVtw</td>\n",
       "      <td>2012-01-05</td>\n",
       "      <td>1uJFq2r5QfJG_6ExMRCaGw</td>\n",
       "      <td>5</td>\n",
       "      <td>General Manager Scott Petello is a good egg!!!...</td>\n",
       "      <td>review</td>\n",
       "      <td>vYmM4KTsC8ZfQBg-j5MWkw</td>\n",
       "      <td>0</td>\n",
       "      <td>0</td>\n",
       "      <td>0</td>\n",
       "    </tr>\n",
       "  </tbody>\n",
       "</table>\n",
       "</div>"
      ],
      "text/plain": [
       "              business_id        date               review_id  stars  \\\n",
       "0  9yKzy9PApeiPPOUJEtnvkg  2011-01-26  fWKvX83p0-ka4JS3dc6E5A      5   \n",
       "1  ZRJwVLyzEJq1VAihDhYiow  2011-07-27  IjZ33sJrzXqU-0X6U8NwyA      5   \n",
       "2  6oRAC4uyJCsJl1X0WZpVSA  2012-06-14  IESLBzqUCLdSzSqm0eCSxQ      4   \n",
       "3  _1QQZuf4zZOyFCvXc0o6Vg  2010-05-27  G-WvGaISbqqaMHlNnByodA      5   \n",
       "4  6ozycU1RpktNG2-1BroVtw  2012-01-05  1uJFq2r5QfJG_6ExMRCaGw      5   \n",
       "\n",
       "                                                text    type  \\\n",
       "0  My wife took me here on my birthday for breakf...  review   \n",
       "1  I have no idea why some people give bad review...  review   \n",
       "2  love the gyro plate. Rice is so good and I als...  review   \n",
       "3  Rosie, Dakota, and I LOVE Chaparral Dog Park!!...  review   \n",
       "4  General Manager Scott Petello is a good egg!!!...  review   \n",
       "\n",
       "                  user_id  cool  useful  funny  \n",
       "0  rLtl8ZkDX5vH5nAx9C3q5Q     2       5      0  \n",
       "1  0a2KyEL0d3Yb1V6aivbIuQ     0       0      0  \n",
       "2  0hT2KtfLiobPvh6cDC8JQg     0       1      0  \n",
       "3  uZetl9T0NcROGOyFfughhg     1       2      0  \n",
       "4  vYmM4KTsC8ZfQBg-j5MWkw     0       0      0  "
      ]
     },
     "execution_count": 3,
     "metadata": {},
     "output_type": "execute_result"
    }
   ],
   "source": [
    "df = pd.read_csv('./archive/yelp.csv')\n",
    "df.head()"
   ]
  },
  {
   "cell_type": "code",
   "execution_count": 4,
   "id": "waiting-kennedy",
   "metadata": {},
   "outputs": [
    {
     "name": "stdout",
     "output_type": "stream",
     "text": [
      "<class 'pandas.core.frame.DataFrame'>\n",
      "RangeIndex: 10000 entries, 0 to 9999\n",
      "Data columns (total 10 columns):\n",
      " #   Column       Non-Null Count  Dtype \n",
      "---  ------       --------------  ----- \n",
      " 0   business_id  10000 non-null  object\n",
      " 1   date         10000 non-null  object\n",
      " 2   review_id    10000 non-null  object\n",
      " 3   stars        10000 non-null  int64 \n",
      " 4   text         10000 non-null  object\n",
      " 5   type         10000 non-null  object\n",
      " 6   user_id      10000 non-null  object\n",
      " 7   cool         10000 non-null  int64 \n",
      " 8   useful       10000 non-null  int64 \n",
      " 9   funny        10000 non-null  int64 \n",
      "dtypes: int64(4), object(6)\n",
      "memory usage: 781.4+ KB\n"
     ]
    }
   ],
   "source": [
    "df.info()"
   ]
  },
  {
   "cell_type": "markdown",
   "id": "spiritual-broadcast",
   "metadata": {},
   "source": [
    "## Data Prepocessing "
   ]
  },
  {
   "cell_type": "markdown",
   "id": "brutal-chicken",
   "metadata": {},
   "source": [
    "a. 讀取資料僅保留 'text' 與 'star' 兩個欄位"
   ]
  },
  {
   "cell_type": "code",
   "execution_count": 5,
   "id": "reduced-fireplace",
   "metadata": {},
   "outputs": [
    {
     "data": {
      "text/html": [
       "<div>\n",
       "<style scoped>\n",
       "    .dataframe tbody tr th:only-of-type {\n",
       "        vertical-align: middle;\n",
       "    }\n",
       "\n",
       "    .dataframe tbody tr th {\n",
       "        vertical-align: top;\n",
       "    }\n",
       "\n",
       "    .dataframe thead th {\n",
       "        text-align: right;\n",
       "    }\n",
       "</style>\n",
       "<table border=\"1\" class=\"dataframe\">\n",
       "  <thead>\n",
       "    <tr style=\"text-align: right;\">\n",
       "      <th></th>\n",
       "      <th>stars</th>\n",
       "      <th>text</th>\n",
       "    </tr>\n",
       "  </thead>\n",
       "  <tbody>\n",
       "    <tr>\n",
       "      <th>0</th>\n",
       "      <td>5</td>\n",
       "      <td>My wife took me here on my birthday for breakf...</td>\n",
       "    </tr>\n",
       "    <tr>\n",
       "      <th>1</th>\n",
       "      <td>5</td>\n",
       "      <td>I have no idea why some people give bad review...</td>\n",
       "    </tr>\n",
       "    <tr>\n",
       "      <th>2</th>\n",
       "      <td>4</td>\n",
       "      <td>love the gyro plate. Rice is so good and I als...</td>\n",
       "    </tr>\n",
       "    <tr>\n",
       "      <th>3</th>\n",
       "      <td>5</td>\n",
       "      <td>Rosie, Dakota, and I LOVE Chaparral Dog Park!!...</td>\n",
       "    </tr>\n",
       "    <tr>\n",
       "      <th>4</th>\n",
       "      <td>5</td>\n",
       "      <td>General Manager Scott Petello is a good egg!!!...</td>\n",
       "    </tr>\n",
       "  </tbody>\n",
       "</table>\n",
       "</div>"
      ],
      "text/plain": [
       "   stars                                               text\n",
       "0      5  My wife took me here on my birthday for breakf...\n",
       "1      5  I have no idea why some people give bad review...\n",
       "2      4  love the gyro plate. Rice is so good and I als...\n",
       "3      5  Rosie, Dakota, and I LOVE Chaparral Dog Park!!...\n",
       "4      5  General Manager Scott Petello is a good egg!!!..."
      ]
     },
     "execution_count": 5,
     "metadata": {},
     "output_type": "execute_result"
    }
   ],
   "source": [
    "df = df[['stars', 'text']]\n",
    "df.head()"
   ]
  },
  {
   "cell_type": "markdown",
   "id": "portable-counter",
   "metadata": {},
   "source": [
    "將stars欄位內值大於等於4的轉成1，其餘轉成0\n",
    "\n",
    "1: positive\n",
    "\n",
    "0: negative"
   ]
  },
  {
   "cell_type": "code",
   "execution_count": 6,
   "id": "genuine-richardson",
   "metadata": {},
   "outputs": [
    {
     "data": {
      "text/html": [
       "<div>\n",
       "<style scoped>\n",
       "    .dataframe tbody tr th:only-of-type {\n",
       "        vertical-align: middle;\n",
       "    }\n",
       "\n",
       "    .dataframe tbody tr th {\n",
       "        vertical-align: top;\n",
       "    }\n",
       "\n",
       "    .dataframe thead th {\n",
       "        text-align: right;\n",
       "    }\n",
       "</style>\n",
       "<table border=\"1\" class=\"dataframe\">\n",
       "  <thead>\n",
       "    <tr style=\"text-align: right;\">\n",
       "      <th></th>\n",
       "      <th>stars</th>\n",
       "      <th>text</th>\n",
       "    </tr>\n",
       "  </thead>\n",
       "  <tbody>\n",
       "    <tr>\n",
       "      <th>0</th>\n",
       "      <td>1</td>\n",
       "      <td>My wife took me here on my birthday for breakf...</td>\n",
       "    </tr>\n",
       "    <tr>\n",
       "      <th>1</th>\n",
       "      <td>1</td>\n",
       "      <td>I have no idea why some people give bad review...</td>\n",
       "    </tr>\n",
       "    <tr>\n",
       "      <th>2</th>\n",
       "      <td>1</td>\n",
       "      <td>love the gyro plate. Rice is so good and I als...</td>\n",
       "    </tr>\n",
       "    <tr>\n",
       "      <th>3</th>\n",
       "      <td>1</td>\n",
       "      <td>Rosie, Dakota, and I LOVE Chaparral Dog Park!!...</td>\n",
       "    </tr>\n",
       "    <tr>\n",
       "      <th>4</th>\n",
       "      <td>1</td>\n",
       "      <td>General Manager Scott Petello is a good egg!!!...</td>\n",
       "    </tr>\n",
       "    <tr>\n",
       "      <th>5</th>\n",
       "      <td>1</td>\n",
       "      <td>Quiessence is, simply put, beautiful.  Full wi...</td>\n",
       "    </tr>\n",
       "    <tr>\n",
       "      <th>6</th>\n",
       "      <td>1</td>\n",
       "      <td>Drop what you're doing and drive here. After I...</td>\n",
       "    </tr>\n",
       "    <tr>\n",
       "      <th>7</th>\n",
       "      <td>1</td>\n",
       "      <td>Luckily, I didn't have to travel far to make m...</td>\n",
       "    </tr>\n",
       "    <tr>\n",
       "      <th>8</th>\n",
       "      <td>1</td>\n",
       "      <td>Definitely come for Happy hour! Prices are ama...</td>\n",
       "    </tr>\n",
       "    <tr>\n",
       "      <th>9</th>\n",
       "      <td>1</td>\n",
       "      <td>Nobuo shows his unique talents with everything...</td>\n",
       "    </tr>\n",
       "    <tr>\n",
       "      <th>10</th>\n",
       "      <td>1</td>\n",
       "      <td>The oldish man who owns the store is as sweet ...</td>\n",
       "    </tr>\n",
       "    <tr>\n",
       "      <th>11</th>\n",
       "      <td>1</td>\n",
       "      <td>Wonderful Vietnamese sandwich shoppe. Their ba...</td>\n",
       "    </tr>\n",
       "    <tr>\n",
       "      <th>12</th>\n",
       "      <td>1</td>\n",
       "      <td>They have a limited time thing going on right ...</td>\n",
       "    </tr>\n",
       "    <tr>\n",
       "      <th>13</th>\n",
       "      <td>1</td>\n",
       "      <td>Good tattoo shop. Clean space, multiple artist...</td>\n",
       "    </tr>\n",
       "    <tr>\n",
       "      <th>14</th>\n",
       "      <td>1</td>\n",
       "      <td>I'm 2 weeks new to Phoenix. I looked up Irish ...</td>\n",
       "    </tr>\n",
       "    <tr>\n",
       "      <th>15</th>\n",
       "      <td>0</td>\n",
       "      <td>Was it worth the 21$ for a salad and small piz...</td>\n",
       "    </tr>\n",
       "    <tr>\n",
       "      <th>16</th>\n",
       "      <td>0</td>\n",
       "      <td>We went here on a Saturday afternoon and this ...</td>\n",
       "    </tr>\n",
       "    <tr>\n",
       "      <th>17</th>\n",
       "      <td>1</td>\n",
       "      <td>okay this is the best place EVER! i grew up sh...</td>\n",
       "    </tr>\n",
       "    <tr>\n",
       "      <th>18</th>\n",
       "      <td>0</td>\n",
       "      <td>I met a friend for lunch yesterday. \\n\\nLoved ...</td>\n",
       "    </tr>\n",
       "    <tr>\n",
       "      <th>19</th>\n",
       "      <td>1</td>\n",
       "      <td>They've gotten better and better for me in the...</td>\n",
       "    </tr>\n",
       "  </tbody>\n",
       "</table>\n",
       "</div>"
      ],
      "text/plain": [
       "    stars                                               text\n",
       "0       1  My wife took me here on my birthday for breakf...\n",
       "1       1  I have no idea why some people give bad review...\n",
       "2       1  love the gyro plate. Rice is so good and I als...\n",
       "3       1  Rosie, Dakota, and I LOVE Chaparral Dog Park!!...\n",
       "4       1  General Manager Scott Petello is a good egg!!!...\n",
       "5       1  Quiessence is, simply put, beautiful.  Full wi...\n",
       "6       1  Drop what you're doing and drive here. After I...\n",
       "7       1  Luckily, I didn't have to travel far to make m...\n",
       "8       1  Definitely come for Happy hour! Prices are ama...\n",
       "9       1  Nobuo shows his unique talents with everything...\n",
       "10      1  The oldish man who owns the store is as sweet ...\n",
       "11      1  Wonderful Vietnamese sandwich shoppe. Their ba...\n",
       "12      1  They have a limited time thing going on right ...\n",
       "13      1  Good tattoo shop. Clean space, multiple artist...\n",
       "14      1  I'm 2 weeks new to Phoenix. I looked up Irish ...\n",
       "15      0  Was it worth the 21$ for a salad and small piz...\n",
       "16      0  We went here on a Saturday afternoon and this ...\n",
       "17      1  okay this is the best place EVER! i grew up sh...\n",
       "18      0  I met a friend for lunch yesterday. \\n\\nLoved ...\n",
       "19      1  They've gotten better and better for me in the..."
      ]
     },
     "execution_count": 6,
     "metadata": {},
     "output_type": "execute_result"
    }
   ],
   "source": [
    "df.stars[df.stars<4] = 0\n",
    "df.stars[df.stars>=4] = 1\n",
    "df.head(20)"
   ]
  },
  {
   "cell_type": "markdown",
   "id": "medieval-moldova",
   "metadata": {},
   "source": [
    "建立train&test之DataFrame \n",
    "80%為train，20%為test"
   ]
  },
  {
   "cell_type": "markdown",
   "id": "perceived-static",
   "metadata": {},
   "source": [
    "b. 去除停頓詞stop words "
   ]
  },
  {
   "cell_type": "code",
   "execution_count": 7,
   "id": "brave-collector",
   "metadata": {},
   "outputs": [
    {
     "name": "stdout",
     "output_type": "stream",
     "text": [
      "spaCy has 326 stop words\n",
      "The first twenty stop words are ['own', 'beforehand', '’ve', 'hereby', 'elsewhere', 'nothing', 'much', \"'ll\", 'the', 'around', 'or', 'doing', 'namely', 'latter', 'must', \"'m\", 'bottom', 'we', 'they', 'such']\n"
     ]
    }
   ],
   "source": [
    "#用 Python NLP 中的 spacy 進行stopwords 處理\n",
    "#先看一下spacy中有哪些停頓詞\n",
    "nlp = spacy.load('en_core_web_sm')\n",
    "spacy_stopwords = spacy.lang.en.stop_words.STOP_WORDS\n",
    "print('spaCy has {} stop words'.format(len(spacy_stopwords)))\n",
    "print('The first twenty stop words are {}'.format(list(spacy_stopwords)[:20]))"
   ]
  },
  {
   "cell_type": "code",
   "execution_count": 8,
   "id": "preliminary-honolulu",
   "metadata": {},
   "outputs": [],
   "source": [
    "\"\"\"\n",
    "1. imdb_df['text'].apply將每個row的text值分別取出\n",
    "2. apply(lambda x: rmsw_function(x, spacy_stopwords)) 這邊可以拆解成\n",
    "    - 將imdb_df['text'] 取出，當作lambda function的 x\n",
    "    - 然後丟進 rmsw_function 得到ruturn的值\n",
    "    - 然後放到 imdb['spacy_rmsw_text_fancy']之中\n",
    "\"\"\"\n",
    "#nltk.download('punkt')\n",
    "#def rmsw_function(text, stopword_list):\n",
    "#    return ' '.join([word for word in word_tokenize(text) if word not in stopword_list])\n",
    "#df1['rmsw_text'] = df1['text'].apply(lambda x: rmsw_function(x, spacy_stopwords))\n",
    "df['rmsw_text'] =  df['text'].apply(lambda x:' '.join([word for word in x.split() if word not in spacy_stopwords]))"
   ]
  },
  {
   "cell_type": "code",
   "execution_count": 9,
   "id": "inner-ottawa",
   "metadata": {},
   "outputs": [
    {
     "data": {
      "text/plain": [
       "'My wife took birthday breakfast excellent. The weather perfect sitting outside overlooking grounds absolute pleasure. Our waitress excellent food arrived quickly semi-busy Saturday morning. It looked like place fills pretty quickly earlier better. Do favor Bloody Mary. It phenomenal simply best I\\'ve had. I\\'m pretty sure use ingredients garden blend fresh order it. It amazing. While EVERYTHING menu looks excellent, I white truffle scrambled eggs vegetable skillet tasty delicious. It came 2 pieces griddled bread amazing absolutely meal complete. It best \"toast\" I\\'ve had. Anyway, I can\\'t wait back!'"
      ]
     },
     "execution_count": 9,
     "metadata": {},
     "output_type": "execute_result"
    }
   ],
   "source": [
    "df['rmsw_text'][0]"
   ]
  },
  {
   "cell_type": "code",
   "execution_count": 10,
   "id": "regional-wildlife",
   "metadata": {},
   "outputs": [
    {
     "data": {
      "text/plain": [
       "'My wife took me here on my birthday for breakfast and it was excellent.  The weather was perfect which made sitting outside overlooking their grounds an absolute pleasure.  Our waitress was excellent and our food arrived quickly on the semi-busy Saturday morning.  It looked like the place fills up pretty quickly so the earlier you get here the better.\\n\\nDo yourself a favor and get their Bloody Mary.  It was phenomenal and simply the best I\\'ve ever had.  I\\'m pretty sure they only use ingredients from their garden and blend them fresh when you order it.  It was amazing.\\n\\nWhile EVERYTHING on the menu looks excellent, I had the white truffle scrambled eggs vegetable skillet and it was tasty and delicious.  It came with 2 pieces of their griddled bread with was amazing and it absolutely made the meal complete.  It was the best \"toast\" I\\'ve ever had.\\n\\nAnyway, I can\\'t wait to go back!'"
      ]
     },
     "execution_count": 10,
     "metadata": {},
     "output_type": "execute_result"
    }
   ],
   "source": [
    "df['text'][0]"
   ]
  },
  {
   "cell_type": "markdown",
   "id": "accepted-depression",
   "metadata": {},
   "source": [
    "c. 文字轉向量（Tfidf 、Ｗord2vec …等 ）"
   ]
  },
  {
   "cell_type": "markdown",
   "id": "medieval-moral",
   "metadata": {},
   "source": [
    "- 使用word2vec"
   ]
  },
  {
   "cell_type": "code",
   "execution_count": 11,
   "id": "virtual-waters",
   "metadata": {},
   "outputs": [],
   "source": [
    "tokenized_tweet = df['rmsw_text'].apply(lambda x: x.split()) # tokenizing \n",
    "\n",
    "model_w2v = gensim.models.Word2Vec(\n",
    "            tokenized_tweet,\n",
    "            vector_size=200, # desired no. of features/independent variables\n",
    "            window=5, # context window size\n",
    "            min_count=2, # Ignores all words with total frequency lower than 2.                                  \n",
    "            sg = 1, # 1 for skip-gram model\n",
    "            hs = 0,\n",
    "            negative = 10, # for negative sampling\n",
    "            workers= 32, # no.of cores\n",
    "            seed = 34\n",
    ") "
   ]
  },
  {
   "cell_type": "code",
   "execution_count": 12,
   "id": "single-opera",
   "metadata": {},
   "outputs": [],
   "source": [
    "model_w2v.build_vocab(tokenized_tweet, progress_per = 1000)\n",
    "model_w2v.train(tokenized_tweet, total_examples =model_w2v.corpus_count, epochs = model_w2v.epochs)\n",
    "model_w2v.save(\"./w2v_model\")"
   ]
  },
  {
   "cell_type": "code",
   "execution_count": 13,
   "id": "excellent-microphone",
   "metadata": {},
   "outputs": [
    {
     "data": {
      "text/plain": [
       "[('terrible', 0.6536588668823242),\n",
       " ('ruined', 0.6119721531867981),\n",
       " ('awful', 0.6030116677284241),\n",
       " ('either.', 0.590649425983429),\n",
       " ('overall', 0.5905405879020691),\n",
       " ('ATM', 0.5867387056350708),\n",
       " ('poor', 0.5819487571716309),\n",
       " ('holidays,', 0.580440104007721),\n",
       " (\"Smithwick's\", 0.5802451968193054),\n",
       " ('tight,', 0.5768543481826782)]"
      ]
     },
     "execution_count": 13,
     "metadata": {},
     "output_type": "execute_result"
    }
   ],
   "source": [
    "model_w2v.wv.most_similar('bad')"
   ]
  },
  {
   "cell_type": "code",
   "execution_count": 14,
   "id": "double-negotiation",
   "metadata": {},
   "outputs": [],
   "source": [
    "def word_vector(tokens, size):\n",
    "    vec = np.zeros(size).reshape((1, size))\n",
    "    count = 0\n",
    "    for word in tokens:\n",
    "        try:\n",
    "            vec += model_w2v.wv[word].reshape((1, size))\n",
    "            count += 1.\n",
    "        except KeyError:  # handling the case where the token is not in vocabulary\n",
    "            continue\n",
    "    if count != 0:\n",
    "        vec /= count\n",
    "    return vec"
   ]
  },
  {
   "cell_type": "code",
   "execution_count": 15,
   "id": "better-consent",
   "metadata": {},
   "outputs": [
    {
     "name": "stdout",
     "output_type": "stream",
     "text": [
      "10000\n"
     ]
    }
   ],
   "source": [
    "#轉成array的形式等等丟model\n",
    "wordvec_arrays = np.zeros((len(tokenized_tweet), 200)) \n",
    "for i in range(len(tokenized_tweet)):\n",
    "    wordvec_arrays[i,:] = word_vector(tokenized_tweet[i], 200)\n",
    "wordvec_df = pd.DataFrame(wordvec_arrays)\n",
    "# wordvec_df.shape\n",
    "print(len(wordvec_arrays))"
   ]
  },
  {
   "cell_type": "code",
   "execution_count": 16,
   "id": "outdoor-viking",
   "metadata": {},
   "outputs": [
    {
     "data": {
      "text/plain": [
       "array([[-0.13584621, -0.39326147, -0.02013219, ..., -0.114064  ,\n",
       "        -0.00995557,  0.11588292],\n",
       "       [-0.14289475, -0.3858874 , -0.07713587, ..., -0.10378244,\n",
       "        -0.01836114,  0.09059891],\n",
       "       [-0.12860913, -0.18705917, -0.11625474, ..., -0.19848605,\n",
       "         0.02641168,  0.06477737],\n",
       "       ...,\n",
       "       [-0.11757697, -0.35078612, -0.03676837, ..., -0.08084313,\n",
       "         0.03819029,  0.13316212],\n",
       "       [-0.08459394, -0.33114721, -0.06255296, ..., -0.07700969,\n",
       "         0.03480771,  0.07993919],\n",
       "       [-0.12675977, -0.3546756 , -0.03086532, ..., -0.09547755,\n",
       "         0.04953005,  0.15336361]])"
      ]
     },
     "execution_count": 16,
     "metadata": {},
     "output_type": "execute_result"
    }
   ],
   "source": [
    "wordvec_arrays"
   ]
  },
  {
   "cell_type": "code",
   "execution_count": 17,
   "id": "incorrect-orbit",
   "metadata": {},
   "outputs": [
    {
     "data": {
      "text/plain": [
       "(10000, 200)"
      ]
     },
     "execution_count": 17,
     "metadata": {},
     "output_type": "execute_result"
    }
   ],
   "source": [
    "wordvec_arrays.shape"
   ]
  },
  {
   "cell_type": "markdown",
   "id": "fiscal-newsletter",
   "metadata": {},
   "source": [
    "- 使用keras tokenizer"
   ]
  },
  {
   "cell_type": "code",
   "execution_count": 18,
   "id": "enclosed-birth",
   "metadata": {},
   "outputs": [
    {
     "data": {
      "text/plain": [
       "{'the': 1,\n",
       " 'and': 2,\n",
       " 'i': 3,\n",
       " 'a': 4,\n",
       " 'to': 5,\n",
       " 'of': 6,\n",
       " 'was': 7,\n",
       " 'is': 8,\n",
       " 'it': 9,\n",
       " 'for': 10,\n",
       " 'in': 11,\n",
       " 'that': 12,\n",
       " 'my': 13,\n",
       " 'with': 14,\n",
       " 'but': 15,\n",
       " 'you': 16,\n",
       " 'this': 17,\n",
       " 'on': 18,\n",
       " 'they': 19,\n",
       " 'we': 20,\n",
       " 'have': 21,\n",
       " 'not': 22,\n",
       " 'had': 23,\n",
       " 'are': 24,\n",
       " 'good': 25,\n",
       " 'so': 26,\n",
       " 'place': 27,\n",
       " 'at': 28,\n",
       " 'food': 29,\n",
       " 'were': 30,\n",
       " 'as': 31,\n",
       " 'be': 32,\n",
       " 'there': 33,\n",
       " 'great': 34,\n",
       " 'like': 35,\n",
       " 'if': 36,\n",
       " 'all': 37,\n",
       " 'me': 38,\n",
       " 'out': 39,\n",
       " 'just': 40,\n",
       " 'very': 41,\n",
       " 'here': 42,\n",
       " 'one': 43,\n",
       " 'or': 44,\n",
       " 'their': 45,\n",
       " 'get': 46,\n",
       " \"it's\": 47,\n",
       " 'from': 48,\n",
       " 'up': 49,\n",
       " 'go': 50,\n",
       " 'when': 51,\n",
       " 'time': 52,\n",
       " 'really': 53,\n",
       " 'our': 54,\n",
       " 'about': 55,\n",
       " 'some': 56,\n",
       " 'service': 57,\n",
       " 'would': 58,\n",
       " 'an': 59,\n",
       " 'what': 60,\n",
       " 'been': 61,\n",
       " 'can': 62,\n",
       " 'which': 63,\n",
       " 'your': 64,\n",
       " 'back': 65,\n",
       " 'more': 66,\n",
       " 'only': 67,\n",
       " 'will': 68,\n",
       " 'also': 69,\n",
       " \"don't\": 70,\n",
       " 'by': 71,\n",
       " 'no': 72,\n",
       " 'too': 73,\n",
       " 'love': 74,\n",
       " \"i'm\": 75,\n",
       " 'little': 76,\n",
       " 'nice': 77,\n",
       " 'has': 78,\n",
       " 'well': 79,\n",
       " 'other': 80,\n",
       " 'because': 81,\n",
       " \"i've\": 82,\n",
       " 'them': 83,\n",
       " 'do': 84,\n",
       " 'always': 85,\n",
       " 'even': 86,\n",
       " 'than': 87,\n",
       " 'best': 88,\n",
       " 'us': 89,\n",
       " 'he': 90,\n",
       " 'got': 91,\n",
       " 'after': 92,\n",
       " 'pretty': 93,\n",
       " 'she': 94,\n",
       " 'much': 95,\n",
       " 'chicken': 96,\n",
       " 'restaurant': 97,\n",
       " 'try': 98,\n",
       " 'ordered': 99,\n",
       " 'menu': 100,\n",
       " 'people': 101,\n",
       " 'first': 102,\n",
       " 'know': 103,\n",
       " 'bar': 104,\n",
       " 'over': 105,\n",
       " 'order': 106,\n",
       " \"didn't\": 107,\n",
       " 'think': 108,\n",
       " 'better': 109,\n",
       " 'could': 110,\n",
       " 'never': 111,\n",
       " 'friendly': 112,\n",
       " 'am': 113,\n",
       " 'make': 114,\n",
       " 'went': 115,\n",
       " 'staff': 116,\n",
       " 'did': 117,\n",
       " 'night': 118,\n",
       " 'then': 119,\n",
       " 'off': 120,\n",
       " 'way': 121,\n",
       " '2': 122,\n",
       " 'going': 123,\n",
       " 'who': 124,\n",
       " 'how': 125,\n",
       " 'cheese': 126,\n",
       " 'right': 127,\n",
       " 'pizza': 128,\n",
       " 'two': 129,\n",
       " 'delicious': 130,\n",
       " 'made': 131,\n",
       " 'few': 132,\n",
       " 'came': 133,\n",
       " 'say': 134,\n",
       " 'want': 135,\n",
       " 'any': 136,\n",
       " 'now': 137,\n",
       " 'lunch': 138,\n",
       " 'salad': 139,\n",
       " 'again': 140,\n",
       " '5': 141,\n",
       " 'come': 142,\n",
       " 'new': 143,\n",
       " 'fresh': 144,\n",
       " 'sauce': 145,\n",
       " 'day': 146,\n",
       " 'still': 147,\n",
       " 'take': 148,\n",
       " '3': 149,\n",
       " 'while': 150,\n",
       " 'eat': 151,\n",
       " 'see': 152,\n",
       " 'down': 153,\n",
       " 'before': 154,\n",
       " 'experience': 155,\n",
       " 'since': 156,\n",
       " 'sure': 157,\n",
       " 'definitely': 158,\n",
       " 'happy': 159,\n",
       " 'around': 160,\n",
       " 'her': 161,\n",
       " 'wait': 162,\n",
       " 'something': 163,\n",
       " 'most': 164,\n",
       " 'times': 165,\n",
       " 'ever': 166,\n",
       " 'next': 167,\n",
       " 'find': 168,\n",
       " 'every': 169,\n",
       " 'everything': 170,\n",
       " 'amazing': 171,\n",
       " 'bit': 172,\n",
       " 'though': 173,\n",
       " 'give': 174,\n",
       " \"can't\": 175,\n",
       " 'meal': 176,\n",
       " 'area': 177,\n",
       " 'said': 178,\n",
       " 'bad': 179,\n",
       " 'many': 180,\n",
       " 'table': 181,\n",
       " 'into': 182,\n",
       " 'dinner': 183,\n",
       " 'location': 184,\n",
       " 'thing': 185,\n",
       " 'its': 186,\n",
       " 'where': 187,\n",
       " 'lot': 188,\n",
       " 'hour': 189,\n",
       " 'last': 190,\n",
       " 'being': 191,\n",
       " 'another': 192,\n",
       " 'side': 193,\n",
       " 'phoenix': 194,\n",
       " 'small': 195,\n",
       " '4': 196,\n",
       " 'big': 197,\n",
       " 'both': 198,\n",
       " 'prices': 199,\n",
       " 'home': 200,\n",
       " 'favorite': 201,\n",
       " 'sandwich': 202,\n",
       " \"wasn't\": 203,\n",
       " 'hot': 204,\n",
       " 'tasty': 205,\n",
       " 'stars': 206,\n",
       " 'burger': 207,\n",
       " 'drinks': 208,\n",
       " \"you're\": 209,\n",
       " 'his': 210,\n",
       " 'feel': 211,\n",
       " 'drink': 212,\n",
       " 'sweet': 213,\n",
       " 'things': 214,\n",
       " 'enough': 215,\n",
       " '1': 216,\n",
       " 'awesome': 217,\n",
       " 'fries': 218,\n",
       " 'store': 219,\n",
       " 'beer': 220,\n",
       " 'long': 221,\n",
       " 'wine': 222,\n",
       " 'price': 223,\n",
       " 'looking': 224,\n",
       " 'atmosphere': 225,\n",
       " 'minutes': 226,\n",
       " 'worth': 227,\n",
       " 'bread': 228,\n",
       " 'need': 229,\n",
       " 'coffee': 230,\n",
       " 'different': 231,\n",
       " 'tried': 232,\n",
       " 'work': 233,\n",
       " 'took': 234,\n",
       " 'should': 235,\n",
       " \"that's\": 236,\n",
       " 'clean': 237,\n",
       " 'ok': 238,\n",
       " '10': 239,\n",
       " 'old': 240,\n",
       " 'breakfast': 241,\n",
       " 'places': 242,\n",
       " 'taste': 243,\n",
       " 'meat': 244,\n",
       " 'selection': 245,\n",
       " 'recommend': 246,\n",
       " 'room': 247,\n",
       " 'excellent': 248,\n",
       " 'years': 249,\n",
       " 'these': 250,\n",
       " 'actually': 251,\n",
       " 'huge': 252,\n",
       " 'nothing': 253,\n",
       " 'check': 254,\n",
       " 'friends': 255,\n",
       " 'found': 256,\n",
       " 'asked': 257,\n",
       " 'visit': 258,\n",
       " 'those': 259,\n",
       " 'kind': 260,\n",
       " 'free': 261,\n",
       " 'probably': 262,\n",
       " 'same': 263,\n",
       " 'flavor': 264,\n",
       " 'quality': 265,\n",
       " 'wanted': 266,\n",
       " 'thought': 267,\n",
       " 'once': 268,\n",
       " 'special': 269,\n",
       " 'scottsdale': 270,\n",
       " 'anything': 271,\n",
       " 'however': 272,\n",
       " 'server': 273,\n",
       " 'maybe': 274,\n",
       " 'friend': 275,\n",
       " 'quite': 276,\n",
       " 'super': 277,\n",
       " 'perfect': 278,\n",
       " 'sushi': 279,\n",
       " 'rice': 280,\n",
       " 'full': 281,\n",
       " 'large': 282,\n",
       " \"i'd\": 283,\n",
       " 'cool': 284,\n",
       " 'why': 285,\n",
       " 'town': 286,\n",
       " \"i'll\": 287,\n",
       " 'house': 288,\n",
       " 'look': 289,\n",
       " 'top': 290,\n",
       " 'fun': 291,\n",
       " 'beef': 292,\n",
       " 'each': 293,\n",
       " 'told': 294,\n",
       " 'cream': 295,\n",
       " 'usually': 296,\n",
       " 'review': 297,\n",
       " 'dish': 298,\n",
       " 'away': 299,\n",
       " 'outside': 300,\n",
       " 'inside': 301,\n",
       " 'far': 302,\n",
       " 'fried': 303,\n",
       " 'enjoy': 304,\n",
       " 'spot': 305,\n",
       " 'used': 306,\n",
       " 'items': 307,\n",
       " 'oh': 308,\n",
       " 'open': 309,\n",
       " 'parking': 310,\n",
       " 'else': 311,\n",
       " 'decided': 312,\n",
       " 'ask': 313,\n",
       " 'high': 314,\n",
       " 'half': 315,\n",
       " 'left': 316,\n",
       " 'having': 317,\n",
       " 'without': 318,\n",
       " 'pork': 319,\n",
       " 'overall': 320,\n",
       " 'soup': 321,\n",
       " 'spicy': 322,\n",
       " 'served': 323,\n",
       " 'everyone': 324,\n",
       " 'getting': 325,\n",
       " 'least': 326,\n",
       " 'through': 327,\n",
       " 'red': 328,\n",
       " 'mexican': 329,\n",
       " 'patio': 330,\n",
       " 'three': 331,\n",
       " 'family': 332,\n",
       " 'decent': 333,\n",
       " 'water': 334,\n",
       " 'star': 335,\n",
       " 'dishes': 336,\n",
       " 'loved': 337,\n",
       " 'enjoyed': 338,\n",
       " 'put': 339,\n",
       " 'couple': 340,\n",
       " 'almost': 341,\n",
       " 'may': 342,\n",
       " 'hard': 343,\n",
       " 'makes': 344,\n",
       " 'course': 345,\n",
       " 'music': 346,\n",
       " 'eating': 347,\n",
       " 'ice': 348,\n",
       " 'yes': 349,\n",
       " 'plate': 350,\n",
       " 'busy': 351,\n",
       " 'such': 352,\n",
       " 'whole': 353,\n",
       " 'fast': 354,\n",
       " 'use': 355,\n",
       " 'during': 356,\n",
       " 'fantastic': 357,\n",
       " 'fan': 358,\n",
       " 'him': 359,\n",
       " 'green': 360,\n",
       " 'does': 361,\n",
       " 'chips': 362,\n",
       " 'week': 363,\n",
       " 'part': 364,\n",
       " 'wonderful': 365,\n",
       " 'fish': 366,\n",
       " 'let': 367,\n",
       " 'restaurants': 368,\n",
       " 'dining': 369,\n",
       " 'husband': 370,\n",
       " 'reviews': 371,\n",
       " 'must': 372,\n",
       " 'local': 373,\n",
       " 'shop': 374,\n",
       " 'looked': 375,\n",
       " 'tacos': 376,\n",
       " 'less': 377,\n",
       " 'close': 378,\n",
       " 'tasted': 379,\n",
       " 'several': 380,\n",
       " 'shrimp': 381,\n",
       " \"doesn't\": 382,\n",
       " 'live': 383,\n",
       " 'valley': 384,\n",
       " 'kids': 385,\n",
       " 'steak': 386,\n",
       " \"isn't\": 387,\n",
       " 'care': 388,\n",
       " 'especially': 389,\n",
       " 'stuff': 390,\n",
       " 'chocolate': 391,\n",
       " '6': 392,\n",
       " 'style': 393,\n",
       " 'hours': 394,\n",
       " 'either': 395,\n",
       " 'customer': 396,\n",
       " 'yet': 397,\n",
       " 'own': 398,\n",
       " 'liked': 399,\n",
       " 'done': 400,\n",
       " 'business': 401,\n",
       " 'stop': 402,\n",
       " 'tables': 403,\n",
       " 'door': 404,\n",
       " 'quick': 405,\n",
       " 'dessert': 406,\n",
       " 'finally': 407,\n",
       " 'end': 408,\n",
       " 'waitress': 409,\n",
       " 'although': 410,\n",
       " 'guy': 411,\n",
       " 'sit': 412,\n",
       " 'disappointed': 413,\n",
       " 'name': 414,\n",
       " 'coming': 415,\n",
       " 'real': 416,\n",
       " 'tell': 417,\n",
       " 'cheap': 418,\n",
       " 'someone': 419,\n",
       " 'year': 420,\n",
       " 'comes': 421,\n",
       " 'bring': 422,\n",
       " 'drive': 423,\n",
       " 'decor': 424,\n",
       " 'trying': 425,\n",
       " '20': 426,\n",
       " 'walk': 427,\n",
       " 'gave': 428,\n",
       " 'line': 429,\n",
       " 'might': 430,\n",
       " 'cooked': 431,\n",
       " 'yummy': 432,\n",
       " 'thai': 433,\n",
       " \"won't\": 434,\n",
       " 'yelp': 435,\n",
       " 'fact': 436,\n",
       " 'salsa': 437,\n",
       " 'until': 438,\n",
       " 'called': 439,\n",
       " 'pay': 440,\n",
       " \"there's\": 441,\n",
       " 'myself': 442,\n",
       " 'keep': 443,\n",
       " 'extra': 444,\n",
       " 'instead': 445,\n",
       " 'started': 446,\n",
       " 'call': 447,\n",
       " 'front': 448,\n",
       " 'felt': 449,\n",
       " 'deal': 450,\n",
       " '30': 451,\n",
       " 'plus': 452,\n",
       " 'walked': 453,\n",
       " 'lots': 454,\n",
       " 'waiting': 455,\n",
       " 'helpful': 456,\n",
       " 'bacon': 457,\n",
       " 'money': 458,\n",
       " 'sat': 459,\n",
       " 'tea': 460,\n",
       " 'brought': 461,\n",
       " 'today': 462,\n",
       " 'seems': 463,\n",
       " 'seemed': 464,\n",
       " 'wrong': 465,\n",
       " \"couldn't\": 466,\n",
       " 'okay': 467,\n",
       " 'reason': 468,\n",
       " 'white': 469,\n",
       " 'street': 470,\n",
       " 'bbq': 471,\n",
       " 'often': 472,\n",
       " 'able': 473,\n",
       " 'owner': 474,\n",
       " 'regular': 475,\n",
       " 'glass': 476,\n",
       " 'etc': 477,\n",
       " 'return': 478,\n",
       " 'car': 479,\n",
       " 'second': 480,\n",
       " 'guess': 481,\n",
       " \"they're\": 482,\n",
       " 'potato': 483,\n",
       " 'offer': 484,\n",
       " 'person': 485,\n",
       " 'job': 486,\n",
       " 'beans': 487,\n",
       " 'wife': 488,\n",
       " 'options': 489,\n",
       " 'help': 490,\n",
       " 'group': 491,\n",
       " 'highly': 492,\n",
       " 'waiter': 493,\n",
       " 'kitchen': 494,\n",
       " 'wish': 495,\n",
       " 'needed': 496,\n",
       " '7': 497,\n",
       " 'saw': 498,\n",
       " 'ago': 499,\n",
       " 'seem': 500,\n",
       " 'impressed': 501,\n",
       " 'ate': 502,\n",
       " 'fine': 503,\n",
       " 'dog': 504,\n",
       " 'light': 505,\n",
       " 'roll': 506,\n",
       " 'four': 507,\n",
       " 'serve': 508,\n",
       " 'seating': 509,\n",
       " 'sandwiches': 510,\n",
       " '15': 511,\n",
       " 'hotel': 512,\n",
       " 'size': 513,\n",
       " 'morning': 514,\n",
       " 'type': 515,\n",
       " '8': 516,\n",
       " 'start': 517,\n",
       " 'flavors': 518,\n",
       " 'expect': 519,\n",
       " 'easy': 520,\n",
       " \"wouldn't\": 521,\n",
       " 'list': 522,\n",
       " 'rolls': 523,\n",
       " 'absolutely': 524,\n",
       " 'warm': 525,\n",
       " 'pick': 526,\n",
       " 'point': 527,\n",
       " 'buy': 528,\n",
       " 'portions': 529,\n",
       " 'later': 530,\n",
       " 'gets': 531,\n",
       " 'choice': 532,\n",
       " 'party': 533,\n",
       " 'appetizer': 534,\n",
       " 'arizona': 535,\n",
       " 'bowl': 536,\n",
       " 'remember': 537,\n",
       " 'priced': 538,\n",
       " 'perfectly': 539,\n",
       " 'grilled': 540,\n",
       " 'stay': 541,\n",
       " 'run': 542,\n",
       " 'chinese': 543,\n",
       " 'pool': 544,\n",
       " 'mall': 545,\n",
       " 'seen': 546,\n",
       " 'anyone': 547,\n",
       " 'between': 548,\n",
       " 'average': 549,\n",
       " 'days': 550,\n",
       " 'making': 551,\n",
       " 'saturday': 552,\n",
       " 'extremely': 553,\n",
       " 'mind': 554,\n",
       " 'late': 555,\n",
       " 'past': 556,\n",
       " 'early': 557,\n",
       " 'looks': 558,\n",
       " 'beautiful': 559,\n",
       " 'trip': 560,\n",
       " 'problem': 561,\n",
       " 'attentive': 562,\n",
       " \"you'll\": 563,\n",
       " 'add': 564,\n",
       " 'variety': 565,\n",
       " 'burgers': 566,\n",
       " 'reasonable': 567,\n",
       " 'arrived': 568,\n",
       " 'cold': 569,\n",
       " 'game': 570,\n",
       " 'soon': 571,\n",
       " 'manager': 572,\n",
       " '50': 573,\n",
       " 'dry': 574,\n",
       " 'plenty': 575,\n",
       " 'ended': 576,\n",
       " 'potatoes': 577,\n",
       " 'amount': 578,\n",
       " 'hit': 579,\n",
       " 'friday': 580,\n",
       " 'bite': 581,\n",
       " 'seriously': 582,\n",
       " 'burrito': 583,\n",
       " 'park': 584,\n",
       " 'cake': 585,\n",
       " 'tempe': 586,\n",
       " 'sitting': 587,\n",
       " 'ingredients': 588,\n",
       " 'cute': 589,\n",
       " 'guys': 590,\n",
       " 'near': 591,\n",
       " 'egg': 592,\n",
       " 'working': 593,\n",
       " 'leave': 594,\n",
       " 'counter': 595,\n",
       " 'seated': 596,\n",
       " 'wings': 597,\n",
       " \"haven't\": 598,\n",
       " 'az': 599,\n",
       " 'show': 600,\n",
       " 'eaten': 601,\n",
       " 'butter': 602,\n",
       " 'choose': 603,\n",
       " 'french': 604,\n",
       " 'quickly': 605,\n",
       " 'sunday': 606,\n",
       " 'five': 607,\n",
       " 'under': 608,\n",
       " 'sometimes': 609,\n",
       " 'packed': 610,\n",
       " 'along': 611,\n",
       " 'rather': 612,\n",
       " 'short': 613,\n",
       " 'heard': 614,\n",
       " 'others': 615,\n",
       " 'beers': 616,\n",
       " 'mean': 617,\n",
       " 'bill': 618,\n",
       " 'downtown': 619,\n",
       " 'crust': 620,\n",
       " 'across': 621,\n",
       " 'pasta': 622,\n",
       " 'comfortable': 623,\n",
       " 'set': 624,\n",
       " 'believe': 625,\n",
       " 'anyway': 626,\n",
       " 'date': 627,\n",
       " 'unique': 628,\n",
       " 'already': 629,\n",
       " 'watch': 630,\n",
       " 'cut': 631,\n",
       " 'hand': 632,\n",
       " 'man': 633,\n",
       " 'tomato': 634,\n",
       " 'shopping': 635,\n",
       " 'customers': 636,\n",
       " 'ambiance': 637,\n",
       " '9': 638,\n",
       " 'waited': 639,\n",
       " 'twice': 640,\n",
       " 'surprised': 641,\n",
       " 'read': 642,\n",
       " 'behind': 643,\n",
       " 'ready': 644,\n",
       " 'slow': 645,\n",
       " 'expensive': 646,\n",
       " 'stopped': 647,\n",
       " 'main': 648,\n",
       " 'tip': 649,\n",
       " 'please': 650,\n",
       " 'italian': 651,\n",
       " 'crowd': 652,\n",
       " 'evening': 653,\n",
       " 'life': 654,\n",
       " 'garlic': 655,\n",
       " 'itself': 656,\n",
       " 'given': 657,\n",
       " 'weekend': 658,\n",
       " 'totally': 659,\n",
       " 'taco': 660,\n",
       " 'specials': 661,\n",
       " 'onion': 662,\n",
       " 'w': 663,\n",
       " 'neighborhood': 664,\n",
       " 'crispy': 665,\n",
       " 'eggs': 666,\n",
       " 'pho': 667,\n",
       " 'corn': 668,\n",
       " 'doing': 669,\n",
       " 'glad': 670,\n",
       " 'space': 671,\n",
       " 'authentic': 672,\n",
       " '12': 673,\n",
       " 'chef': 674,\n",
       " 'chain': 675,\n",
       " 'ones': 676,\n",
       " 'wow': 677,\n",
       " 'salads': 678,\n",
       " 'girl': 679,\n",
       " 'available': 680,\n",
       " 'walking': 681,\n",
       " 'market': 682,\n",
       " 'rest': 683,\n",
       " 'head': 684,\n",
       " 'gone': 685,\n",
       " 'knew': 686,\n",
       " 'flavorful': 687,\n",
       " 'simple': 688,\n",
       " 'ordering': 689,\n",
       " 'offered': 690,\n",
       " 'school': 691,\n",
       " 'mom': 692,\n",
       " '00': 693,\n",
       " 'employees': 694,\n",
       " 'black': 695,\n",
       " 'recently': 696,\n",
       " 'hope': 697,\n",
       " 'thanks': 698,\n",
       " 'entire': 699,\n",
       " 'completely': 700,\n",
       " 'sausage': 701,\n",
       " 'portion': 702,\n",
       " 'joint': 703,\n",
       " 'feeling': 704,\n",
       " 'onions': 705,\n",
       " 'taking': 706,\n",
       " 'yum': 707,\n",
       " 'kept': 708,\n",
       " 'yourself': 709,\n",
       " 'card': 710,\n",
       " 'months': 711,\n",
       " 'cup': 712,\n",
       " 'choices': 713,\n",
       " 'bland': 714,\n",
       " 'center': 715,\n",
       " 'change': 716,\n",
       " 'appetizers': 717,\n",
       " 'expected': 718,\n",
       " 'spend': 719,\n",
       " 'including': 720,\n",
       " 'toppings': 721,\n",
       " 'charge': 722,\n",
       " 'idea': 723,\n",
       " 'loud': 724,\n",
       " 'typical': 725,\n",
       " 'located': 726,\n",
       " 'entrees': 727,\n",
       " 'unfortunately': 728,\n",
       " 'plates': 729,\n",
       " 'needs': 730,\n",
       " 'miss': 731,\n",
       " 'hands': 732,\n",
       " 'club': 733,\n",
       " 'filled': 734,\n",
       " 'mouth': 735,\n",
       " 'world': 736,\n",
       " 'servers': 737,\n",
       " 'desert': 738,\n",
       " \"aren't\": 739,\n",
       " 'interesting': 740,\n",
       " 'office': 741,\n",
       " 'bottle': 742,\n",
       " 'sort': 743,\n",
       " 'tastes': 744,\n",
       " 'birthday': 745,\n",
       " 'noodles': 746,\n",
       " 'bartender': 747,\n",
       " 'curry': 748,\n",
       " 'bucks': 749,\n",
       " 'cost': 750,\n",
       " 'pieces': 751,\n",
       " 'wall': 752,\n",
       " 'crowded': 753,\n",
       " 'thank': 754,\n",
       " 'hungry': 755,\n",
       " 'grill': 756,\n",
       " 'mixed': 757,\n",
       " 'opened': 758,\n",
       " 'non': 759,\n",
       " 'dark': 760,\n",
       " 'low': 761,\n",
       " 'veggies': 762,\n",
       " \"weren't\": 763,\n",
       " 'oil': 764,\n",
       " 'together': 765,\n",
       " 'note': 766,\n",
       " 'hate': 767,\n",
       " 'kinda': 768,\n",
       " 'soft': 769,\n",
       " 'lettuce': 770,\n",
       " 'yeah': 771,\n",
       " 'moved': 772,\n",
       " 'meals': 773,\n",
       " 'saying': 774,\n",
       " 'afternoon': 775,\n",
       " 'empty': 776,\n",
       " 'anywhere': 777,\n",
       " 'salmon': 778,\n",
       " 'noticed': 779,\n",
       " 'hair': 780,\n",
       " 'based': 781,\n",
       " 'asian': 782,\n",
       " 'excited': 783,\n",
       " 'unless': 784,\n",
       " 'giving': 785,\n",
       " 'spring': 786,\n",
       " 'dressing': 787,\n",
       " 'exactly': 788,\n",
       " 'pricey': 789,\n",
       " 'tender': 790,\n",
       " 'veggie': 791,\n",
       " 'mac': 792,\n",
       " 'event': 793,\n",
       " 'play': 794,\n",
       " 'understand': 795,\n",
       " 'stand': 796,\n",
       " 'prepared': 797,\n",
       " 'number': 798,\n",
       " 'chance': 799,\n",
       " 'frozen': 800,\n",
       " 'toast': 801,\n",
       " 'pleasant': 802,\n",
       " 'grab': 803,\n",
       " 'sides': 804,\n",
       " 'company': 805,\n",
       " 'outdoor': 806,\n",
       " 'greasy': 807,\n",
       " 'case': 808,\n",
       " 'phone': 809,\n",
       " 'entree': 810,\n",
       " 'sign': 811,\n",
       " 'value': 812,\n",
       " 'healthy': 813,\n",
       " 'owners': 814,\n",
       " 'truly': 815,\n",
       " 'watching': 816,\n",
       " 'talk': 817,\n",
       " 'tuna': 818,\n",
       " 'city': 819,\n",
       " 'simply': 820,\n",
       " 'goes': 821,\n",
       " 'ribs': 822,\n",
       " 'summer': 823,\n",
       " 'within': 824,\n",
       " 'movie': 825,\n",
       " 'blue': 826,\n",
       " 'vegetarian': 827,\n",
       " 'longer': 828,\n",
       " 'forward': 829,\n",
       " 'above': 830,\n",
       " 'cannot': 831,\n",
       " 'single': 832,\n",
       " 'cafe': 833,\n",
       " 'tasting': 834,\n",
       " 'thin': 835,\n",
       " 'sorry': 836,\n",
       " 'piece': 837,\n",
       " 'foods': 838,\n",
       " 'crab': 839,\n",
       " 'finish': 840,\n",
       " 'sports': 841,\n",
       " 'spinach': 842,\n",
       " 'bag': 843,\n",
       " 'buffet': 844,\n",
       " 'true': 845,\n",
       " 'strip': 846,\n",
       " 'closed': 847,\n",
       " 'weeks': 848,\n",
       " 'fabulous': 849,\n",
       " 'dirty': 850,\n",
       " 'whatever': 851,\n",
       " 'dip': 852,\n",
       " 'stores': 853,\n",
       " 'item': 854,\n",
       " 'mix': 855,\n",
       " 'fair': 856,\n",
       " 'homemade': 857,\n",
       " 'pie': 858,\n",
       " 'recommended': 859,\n",
       " 'upon': 860,\n",
       " 'middle': 861,\n",
       " 'orange': 862,\n",
       " 'received': 863,\n",
       " '25': 864,\n",
       " 'literally': 865,\n",
       " 'stuffed': 866,\n",
       " 'lady': 867,\n",
       " 'share': 868,\n",
       " 'mine': 869,\n",
       " 'view': 870,\n",
       " 'casual': 871,\n",
       " 'roasted': 872,\n",
       " 'tomatoes': 873,\n",
       " 'bought': 874,\n",
       " 'pita': 875,\n",
       " 'horrible': 876,\n",
       " 'tiny': 877,\n",
       " 'box': 878,\n",
       " 'perhaps': 879,\n",
       " 'playing': 880,\n",
       " 'heat': 881,\n",
       " 'craving': 882,\n",
       " 'fairly': 883,\n",
       " 'filling': 884,\n",
       " 'except': 885,\n",
       " 'serving': 886,\n",
       " 'slightly': 887,\n",
       " 'added': 888,\n",
       " 'spent': 889,\n",
       " 'la': 890,\n",
       " 'fruit': 891,\n",
       " 'floor': 892,\n",
       " 'face': 893,\n",
       " 'weird': 894,\n",
       " 'immediately': 895,\n",
       " 'chili': 896,\n",
       " 'prefer': 897,\n",
       " 'takes': 898,\n",
       " \"we've\": 899,\n",
       " 'total': 900,\n",
       " 'shared': 901,\n",
       " '11': 902,\n",
       " 'hear': 903,\n",
       " 'boyfriend': 904,\n",
       " 'sauces': 905,\n",
       " 'brunch': 906,\n",
       " 'worst': 907,\n",
       " 'crazy': 908,\n",
       " 'due': 909,\n",
       " 'taken': 910,\n",
       " 'paying': 911,\n",
       " 'dogs': 912,\n",
       " '100': 913,\n",
       " 'paid': 914,\n",
       " 'dr': 915,\n",
       " \"you've\": 916,\n",
       " 'vibe': 917,\n",
       " 'lived': 918,\n",
       " 'corner': 919,\n",
       " 'attention': 920,\n",
       " 'month': 921,\n",
       " 'orders': 922,\n",
       " 'art': 923,\n",
       " 'thinking': 924,\n",
       " 'book': 925,\n",
       " 'cook': 926,\n",
       " 'seat': 927,\n",
       " 'young': 928,\n",
       " 'split': 929,\n",
       " 'iced': 930,\n",
       " 'easily': 931,\n",
       " 'talking': 932,\n",
       " 'lovely': 933,\n",
       " 'slices': 934,\n",
       " 'finished': 935,\n",
       " 'hang': 936,\n",
       " 'turkey': 937,\n",
       " 'combo': 938,\n",
       " 'certainly': 939,\n",
       " 'girls': 940,\n",
       " 'seats': 941,\n",
       " 'honestly': 942,\n",
       " 'says': 943,\n",
       " 'shot': 944,\n",
       " 'tons': 945,\n",
       " 'seafood': 946,\n",
       " 'rooms': 947,\n",
       " 'terrible': 948,\n",
       " 'word': 949,\n",
       " 'section': 950,\n",
       " 'building': 951,\n",
       " 'option': 952,\n",
       " 'die': 953,\n",
       " 'rude': 954,\n",
       " 'b': 955,\n",
       " 'stayed': 956,\n",
       " 'baked': 957,\n",
       " 'somewhere': 958,\n",
       " 'salt': 959,\n",
       " 'works': 960,\n",
       " 'airport': 961,\n",
       " '99': 962,\n",
       " 'damn': 963,\n",
       " 'beat': 964,\n",
       " 'standard': 965,\n",
       " 'touch': 966,\n",
       " 'treat': 967,\n",
       " 'worked': 968,\n",
       " 'normally': 969,\n",
       " 'american': 970,\n",
       " 'greeted': 971,\n",
       " 'carne': 972,\n",
       " 'alone': 973,\n",
       " 'mood': 974,\n",
       " 'traditional': 975,\n",
       " 'medium': 976,\n",
       " 'pizzas': 977,\n",
       " 'write': 978,\n",
       " 'poor': 979,\n",
       " 'hummus': 980,\n",
       " 'solid': 981,\n",
       " 'mushrooms': 982,\n",
       " 'salty': 983,\n",
       " 'sour': 984,\n",
       " 'forget': 985,\n",
       " 'mention': 986,\n",
       " 'donuts': 987,\n",
       " 'eye': 988,\n",
       " 'folks': 989,\n",
       " 'matter': 990,\n",
       " 'opinion': 991,\n",
       " 'pass': 992,\n",
       " 'pulled': 993,\n",
       " 'personal': 994,\n",
       " 'north': 995,\n",
       " 'minute': 996,\n",
       " 'peppers': 997,\n",
       " 'plan': 998,\n",
       " 'cash': 999,\n",
       " 'daughter': 1000,\n",
       " ...}"
      ]
     },
     "execution_count": 18,
     "metadata": {},
     "output_type": "execute_result"
    }
   ],
   "source": [
    "maxlen = 200\n",
    "max_words = 10000\n",
    "tokenizer = Tokenizer(num_words=1000)   #只考慮1000個最常用的詞\n",
    "tokenizer.fit_on_texts(df['text'])\n",
    "sequences = tokenizer.texts_to_sequences(df['text'])  \n",
    "tokenizer.word_index"
   ]
  },
  {
   "cell_type": "markdown",
   "id": "interior-nutrition",
   "metadata": {},
   "source": [
    "padding 因為進行深度學習模型訓練時長度必須固定"
   ]
  },
  {
   "cell_type": "code",
   "execution_count": 19,
   "id": "chemical-physics",
   "metadata": {},
   "outputs": [],
   "source": [
    "# use pad_sequence to make traning samples the same size, fill with zeros\n",
    "#長度小於200的 前面數字補0\n",
    "#長度大於200的 截去前面的數字\n",
    "data_input = pad_sequences(sequences, maxlen = maxlen)"
   ]
  },
  {
   "cell_type": "code",
   "execution_count": 20,
   "id": "intermediate-drunk",
   "metadata": {},
   "outputs": [
    {
     "data": {
      "text/plain": [
       "array([[  0,   0,   0, ...,   5,  50,  65],\n",
       "       [275,   2,   3, ..., 179,  21,  56],\n",
       "       [  0,   0,   0, ...,  69,  45, 245],\n",
       "       ...,\n",
       "       [368,  78,  56, ...,   6,   1, 450],\n",
       "       [  0,   0,   0, ...,   4,   4, 104],\n",
       "       [  0,   0,   0, ...,  18,   1, 522]])"
      ]
     },
     "execution_count": 20,
     "metadata": {},
     "output_type": "execute_result"
    }
   ],
   "source": [
    "data_input"
   ]
  },
  {
   "cell_type": "code",
   "execution_count": 21,
   "id": "legislative-affiliate",
   "metadata": {},
   "outputs": [
    {
     "data": {
      "text/plain": [
       "(10000, 200)"
      ]
     },
     "execution_count": 21,
     "metadata": {},
     "output_type": "execute_result"
    }
   ],
   "source": [
    "data_input.shape"
   ]
  },
  {
   "cell_type": "markdown",
   "id": "involved-initial",
   "metadata": {},
   "source": [
    "## Split Training Set and Testing Set "
   ]
  },
  {
   "cell_type": "markdown",
   "id": "complete-converter",
   "metadata": {},
   "source": [
    "- 使用word2vec轉向量的方法"
   ]
  },
  {
   "cell_type": "code",
   "execution_count": 22,
   "id": "seventh-handle",
   "metadata": {},
   "outputs": [],
   "source": [
    "from sklearn.preprocessing import MinMaxScaler\n",
    "\n",
    "scaler = MinMaxScaler(feature_range=(0, 1)).fit(wordvec_arrays)\n",
    "wordvec_arrays_scaled = scaler.transform(wordvec_arrays)"
   ]
  },
  {
   "cell_type": "code",
   "execution_count": 23,
   "id": "australian-berkeley",
   "metadata": {},
   "outputs": [
    {
     "data": {
      "text/plain": [
       "array([[0.6473397 , 0.47065017, 0.58782789, ..., 0.53263432, 0.28868269,\n",
       "        0.56589671],\n",
       "       [0.63721388, 0.4791298 , 0.50621214, ..., 0.54805013, 0.27542788,\n",
       "        0.52527595],\n",
       "       [0.65773635, 0.70776728, 0.45020318, ..., 0.40605482, 0.3460305 ,\n",
       "        0.4837916 ],\n",
       "       ...,\n",
       "       [0.67358496, 0.51949362, 0.56400882, ..., 0.58244455, 0.36460428,\n",
       "        0.5936571 ],\n",
       "       [0.72096779, 0.54207689, 0.52709141, ..., 0.58819228, 0.35927026,\n",
       "        0.50815026],\n",
       "       [0.66039311, 0.51502101, 0.5724606 , ..., 0.5605022 , 0.38248603,\n",
       "        0.6261124 ]])"
      ]
     },
     "execution_count": 23,
     "metadata": {},
     "output_type": "execute_result"
    }
   ],
   "source": [
    "wordvec_arrays_scaled"
   ]
  },
  {
   "cell_type": "code",
   "execution_count": 24,
   "id": "rotary-enlargement",
   "metadata": {},
   "outputs": [],
   "source": [
    "\"\"\"\n",
    "indices = np.arange(wordvec_arrays.shape[0])\n",
    "np.random.shuffle(indices)\n",
    "wordvec_arrays = wordvec_arrays[indices]\n",
    "df['stars'] = df.stars[indices]\n",
    "\"\"\"\n",
    "\n",
    "y = df['stars']\n",
    "#x = wordvec_arrays_scaled\n",
    "x = wordvec_arrays\n",
    "x_train,x_test,y_train,y_test = train_test_split(x,y,random_state=42,test_size=0.2)"
   ]
  },
  {
   "cell_type": "code",
   "execution_count": 25,
   "id": "addressed-surgery",
   "metadata": {},
   "outputs": [
    {
     "name": "stdout",
     "output_type": "stream",
     "text": [
      "(8000, 200)\n",
      "(2000, 200)\n",
      "(8000,)\n",
      "(2000,)\n"
     ]
    }
   ],
   "source": [
    "print(x_train.shape)\n",
    "print(x_test.shape)\n",
    "print(y_train.shape)\n",
    "print(y_test.shape)"
   ]
  },
  {
   "cell_type": "markdown",
   "id": "quality-mainstream",
   "metadata": {},
   "source": [
    "## Create Model"
   ]
  },
  {
   "cell_type": "markdown",
   "id": "dated-antibody",
   "metadata": {},
   "source": [
    "####  使用LSTM (有Dropout Layer)"
   ]
  },
  {
   "cell_type": "code",
   "execution_count": 26,
   "id": "hollow-consumer",
   "metadata": {},
   "outputs": [
    {
     "name": "stdout",
     "output_type": "stream",
     "text": [
      "Model: \"sequential\"\n",
      "_________________________________________________________________\n",
      "Layer (type)                 Output Shape              Param #   \n",
      "=================================================================\n",
      "embedding (Embedding)        (None, 200, 64)           640000    \n",
      "_________________________________________________________________\n",
      "dropout (Dropout)            (None, 200, 64)           0         \n",
      "_________________________________________________________________\n",
      "lstm (LSTM)                  (None, 20)                6800      \n",
      "_________________________________________________________________\n",
      "dense (Dense)                (None, 256)               5376      \n",
      "_________________________________________________________________\n",
      "dropout_1 (Dropout)          (None, 256)               0         \n",
      "_________________________________________________________________\n",
      "dense_1 (Dense)              (None, 1)                 257       \n",
      "=================================================================\n",
      "Total params: 652,433\n",
      "Trainable params: 652,433\n",
      "Non-trainable params: 0\n",
      "_________________________________________________________________\n"
     ]
    }
   ],
   "source": [
    "max_words = 10000 \n",
    "maxlen = 200\n",
    "model_lstm = Sequential()\n",
    "model_lstm.add(Embedding(max_words, 64,input_length = maxlen))\n",
    "model_lstm.add(Dropout(0.7))\n",
    "model_lstm.add(LSTM(20,dropout=0.7, recurrent_dropout=0.7))\n",
    "model_lstm.add(Dense(256, activation='relu'))\n",
    "model_lstm.add(Dropout(0.7))\n",
    "model_lstm.add(Dense(1, activation='sigmoid'))\n",
    "model_lstm.summary()"
   ]
  },
  {
   "cell_type": "code",
   "execution_count": 27,
   "id": "dense-equity",
   "metadata": {},
   "outputs": [],
   "source": [
    "#from keras.optimizers import SGD\n",
    "#opt = SGD(lr=0.01, momentum=0.9, clipvalue=1)\n",
    "opt = keras.optimizers.RMSprop(learning_rate=0.01)\n",
    "model_lstm.compile(optimizer= opt,\n",
    "              loss='binary_crossentropy',\n",
    "              metrics=['acc'])"
   ]
  },
  {
   "cell_type": "code",
   "execution_count": 28,
   "id": "compact-planning",
   "metadata": {},
   "outputs": [
    {
     "name": "stdout",
     "output_type": "stream",
     "text": [
      "Epoch 1/9\n",
      "64/64 [==============================] - 10s 161ms/step - loss: 0.6407 - acc: 0.6758 - val_loss: 0.6181 - val_acc: 0.6931\n",
      "Epoch 2/9\n",
      "64/64 [==============================] - 10s 160ms/step - loss: 0.6337 - acc: 0.6795 - val_loss: 0.6187 - val_acc: 0.6931\n",
      "Epoch 3/9\n",
      "64/64 [==============================] - 10s 154ms/step - loss: 0.6332 - acc: 0.6798 - val_loss: 0.6252 - val_acc: 0.6931\n",
      "Epoch 4/9\n",
      "64/64 [==============================] - 10s 156ms/step - loss: 0.6309 - acc: 0.6798 - val_loss: 0.6194 - val_acc: 0.6931\n",
      "Epoch 5/9\n",
      "64/64 [==============================] - 12s 185ms/step - loss: 0.6314 - acc: 0.6798 - val_loss: 0.6198 - val_acc: 0.6931\n",
      "Epoch 6/9\n",
      "64/64 [==============================] - 11s 176ms/step - loss: 0.6320 - acc: 0.6798 - val_loss: 0.6235 - val_acc: 0.6931\n",
      "Epoch 7/9\n",
      "64/64 [==============================] - 13s 199ms/step - loss: 0.6306 - acc: 0.6798 - val_loss: 0.6194 - val_acc: 0.6931\n",
      "Epoch 8/9\n",
      "64/64 [==============================] - 12s 191ms/step - loss: 0.6299 - acc: 0.6798 - val_loss: 0.6166 - val_acc: 0.6931\n",
      "Epoch 9/9\n",
      "64/64 [==============================] - 12s 190ms/step - loss: 0.6295 - acc: 0.6798 - val_loss: 0.6170 - val_acc: 0.6931\n"
     ]
    }
   ],
   "source": [
    "history_lstm = model_lstm.fit(x_train, y_train,epochs=9,batch_size=100,validation_split=0.2)"
   ]
  },
  {
   "cell_type": "code",
   "execution_count": 29,
   "id": "fifty-paradise",
   "metadata": {},
   "outputs": [
    {
     "data": {
      "image/png": "[encoded data removed]",
      "text/plain": [
       "<Figure size 432x288 with 1 Axes>"
      ]
     },
     "metadata": {
      "needs_background": "light"
     },
     "output_type": "display_data"
    }
   ],
   "source": [
    "#plot model loss\n",
    "plt.plot(history_lstm.history['loss'], label = 'training_loss')\n",
    "plt.plot(history_lstm.history['val_loss'], label = 'val_loss')\n",
    "#圖例\n",
    "plt.legend(loc = 'upper right') \n",
    "plt.show()\n",
    "plt.close()"
   ]
  },
  {
   "cell_type": "code",
   "execution_count": 30,
   "id": "moderate-boston",
   "metadata": {},
   "outputs": [
    {
     "data": {
      "image/png": "[encoded data removed]",
      "text/plain": [
       "<Figure size 432x288 with 1 Axes>"
      ]
     },
     "metadata": {
      "needs_background": "light"
     },
     "output_type": "display_data"
    }
   ],
   "source": [
    "#plot model loss\n",
    "plt.plot(history_lstm.history['acc'], label = 'training_acc')\n",
    "plt.plot(history_lstm.history['val_acc'], label = 'val_acc')\n",
    "#圖例\n",
    "plt.legend(loc = 'upper right') \n",
    "plt.show()\n",
    "plt.close()"
   ]
  },
  {
   "cell_type": "markdown",
   "id": "indonesian-reducing",
   "metadata": {},
   "source": [
    "####  使用LSTM (沒有Dropout Layer)"
   ]
  },
  {
   "cell_type": "code",
   "execution_count": 31,
   "id": "passing-cosmetic",
   "metadata": {},
   "outputs": [
    {
     "name": "stdout",
     "output_type": "stream",
     "text": [
      "Model: \"sequential_1\"\n",
      "_________________________________________________________________\n",
      "Layer (type)                 Output Shape              Param #   \n",
      "=================================================================\n",
      "embedding_1 (Embedding)      (None, 200, 64)           640000    \n",
      "_________________________________________________________________\n",
      "lstm_1 (LSTM)                (None, 10)                3000      \n",
      "_________________________________________________________________\n",
      "dense_2 (Dense)              (None, 10)                110       \n",
      "_________________________________________________________________\n",
      "dense_3 (Dense)              (None, 1)                 11        \n",
      "=================================================================\n",
      "Total params: 643,121\n",
      "Trainable params: 643,121\n",
      "Non-trainable params: 0\n",
      "_________________________________________________________________\n"
     ]
    }
   ],
   "source": [
    "max_words = 10000 \n",
    "maxlen = 200\n",
    "model_lstm_w = Sequential()\n",
    "model_lstm_w.add(Embedding(max_words, 64,input_length = maxlen))\n",
    "model_lstm_w.add(LSTM(10))\n",
    "model_lstm_w.add(Dense(10, activation='relu'))\n",
    "model_lstm_w.add(Dense(1, activation='sigmoid'))\n",
    "model_lstm_w.summary()"
   ]
  },
  {
   "cell_type": "code",
   "execution_count": 32,
   "id": "noticed-costume",
   "metadata": {},
   "outputs": [],
   "source": [
    "from keras.optimizers import SGD\n",
    "#opt = SGD(lr=0.01, momentum=0.9, clipvalue=1)\n",
    "opt = keras.optimizers.RMSprop(learning_rate=0.01)\n",
    "model_lstm_w.compile(optimizer= 'adam',\n",
    "              loss='binary_crossentropy',\n",
    "              metrics=['acc'])"
   ]
  },
  {
   "cell_type": "code",
   "execution_count": 33,
   "id": "hearing-commons",
   "metadata": {},
   "outputs": [
    {
     "name": "stdout",
     "output_type": "stream",
     "text": [
      "Epoch 1/6\n",
      "54/54 [==============================] - 6s 112ms/step - loss: 0.6331 - acc: 0.6798 - val_loss: 0.6172 - val_acc: 0.6931\n",
      "Epoch 2/6\n",
      "54/54 [==============================] - 5s 90ms/step - loss: 0.6271 - acc: 0.6798 - val_loss: 0.6213 - val_acc: 0.6931\n",
      "Epoch 3/6\n",
      "54/54 [==============================] - 4s 82ms/step - loss: 0.6295 - acc: 0.6798 - val_loss: 0.6166 - val_acc: 0.6931\n",
      "Epoch 4/6\n",
      "54/54 [==============================] - 5s 95ms/step - loss: 0.6272 - acc: 0.6798 - val_loss: 0.6202 - val_acc: 0.6931\n",
      "Epoch 5/6\n",
      "54/54 [==============================] - 5s 97ms/step - loss: 0.6274 - acc: 0.6798 - val_loss: 0.6172 - val_acc: 0.6931\n",
      "Epoch 6/6\n",
      "54/54 [==============================] - 5s 92ms/step - loss: 0.6281 - acc: 0.6798 - val_loss: 0.6181 - val_acc: 0.6931\n"
     ]
    }
   ],
   "source": [
    "history_lstm_w = model_lstm_w.fit(x_train, y_train,epochs=6,batch_size=120,validation_split=0.2)"
   ]
  },
  {
   "cell_type": "code",
   "execution_count": 34,
   "id": "attractive-wallpaper",
   "metadata": {},
   "outputs": [
    {
     "data": {
      "image/png": "[encoded data removed]",
      "text/plain": [
       "<Figure size 432x288 with 1 Axes>"
      ]
     },
     "metadata": {
      "needs_background": "light"
     },
     "output_type": "display_data"
    }
   ],
   "source": [
    "#plot model loss\n",
    "plt.plot(history_lstm_w.history['loss'], label = 'training_loss')\n",
    "plt.plot(history_lstm_w.history['val_loss'], label = 'val_loss')\n",
    "#圖例\n",
    "plt.legend(loc = 'upper right') \n",
    "plt.show()\n",
    "plt.close()"
   ]
  },
  {
   "cell_type": "code",
   "execution_count": 35,
   "id": "accepted-qatar",
   "metadata": {},
   "outputs": [
    {
     "data": {
      "image/png": "[encoded data removed]",
      "text/plain": [
       "<Figure size 432x288 with 1 Axes>"
      ]
     },
     "metadata": {
      "needs_background": "light"
     },
     "output_type": "display_data"
    }
   ],
   "source": [
    "#plot model loss\n",
    "plt.plot(history_lstm_w.history['acc'], label = 'training_acc')\n",
    "plt.plot(history_lstm_w.history['val_acc'], label = 'val_acc')\n",
    "#圖例\n",
    "plt.legend(loc = 'upper right') \n",
    "plt.show()\n",
    "plt.close()"
   ]
  },
  {
   "cell_type": "markdown",
   "id": "approved-botswana",
   "metadata": {},
   "source": [
    "#### 使用CNN (有Dropout Layer)"
   ]
  },
  {
   "cell_type": "code",
   "execution_count": 36,
   "id": "olympic-special",
   "metadata": {},
   "outputs": [
    {
     "name": "stdout",
     "output_type": "stream",
     "text": [
      "Model: \"sequential_2\"\n",
      "_________________________________________________________________\n",
      "Layer (type)                 Output Shape              Param #   \n",
      "=================================================================\n",
      "embedding_2 (Embedding)      (None, 200, 64)           640000    \n",
      "_________________________________________________________________\n",
      "dropout_2 (Dropout)          (None, 200, 64)           0         \n",
      "_________________________________________________________________\n",
      "conv1d (Conv1D)              (None, 193, 64)           32832     \n",
      "_________________________________________________________________\n",
      "dropout_3 (Dropout)          (None, 193, 64)           0         \n",
      "_________________________________________________________________\n",
      "max_pooling1d (MaxPooling1D) (None, 96, 64)            0         \n",
      "_________________________________________________________________\n",
      "flatten (Flatten)            (None, 6144)              0         \n",
      "_________________________________________________________________\n",
      "dropout_4 (Dropout)          (None, 6144)              0         \n",
      "_________________________________________________________________\n",
      "dense_4 (Dense)              (None, 5)                 30725     \n",
      "_________________________________________________________________\n",
      "dropout_5 (Dropout)          (None, 5)                 0         \n",
      "_________________________________________________________________\n",
      "dense_5 (Dense)              (None, 1)                 6         \n",
      "=================================================================\n",
      "Total params: 703,563\n",
      "Trainable params: 703,563\n",
      "Non-trainable params: 0\n",
      "_________________________________________________________________\n"
     ]
    }
   ],
   "source": [
    "# define model\n",
    "model_cnn = Sequential()\n",
    "model_cnn.add(Embedding(max_words, 64, input_length=maxlen))\n",
    "model_cnn.add(Dropout(0.7))\n",
    "model_cnn.add(Conv1D(filters=64, kernel_size=8, activation='relu'))\n",
    "model_cnn.add(Dropout(0.7))\n",
    "model_cnn.add(MaxPooling1D(pool_size=2))\n",
    "model_cnn.add(Flatten())\n",
    "model_cnn.add(Dropout(0.7))\n",
    "model_cnn.add(Dense(5, activation='relu'))\n",
    "model_cnn.add(Dropout(0.7))\n",
    "model_cnn.add(Dense(1, activation='sigmoid'))\n",
    "model_cnn.summary()"
   ]
  },
  {
   "cell_type": "code",
   "execution_count": 37,
   "id": "tight-nerve",
   "metadata": {},
   "outputs": [],
   "source": [
    "model_cnn.compile(optimizer='rmsprop',loss='binary_crossentropy',metrics=['acc'])"
   ]
  },
  {
   "cell_type": "code",
   "execution_count": 38,
   "id": "received-treaty",
   "metadata": {},
   "outputs": [
    {
     "name": "stdout",
     "output_type": "stream",
     "text": [
      "Epoch 1/15\n",
      "64/64 [==============================] - 6s 98ms/step - loss: 0.6707 - acc: 0.6723 - val_loss: 0.6638 - val_acc: 0.6931\n",
      "Epoch 2/15\n",
      "64/64 [==============================] - 6s 95ms/step - loss: 0.6610 - acc: 0.6797 - val_loss: 0.6600 - val_acc: 0.6931\n",
      "Epoch 3/15\n",
      "64/64 [==============================] - 6s 94ms/step - loss: 0.6512 - acc: 0.6798 - val_loss: 0.6492 - val_acc: 0.6931\n",
      "Epoch 4/15\n",
      "64/64 [==============================] - 6s 95ms/step - loss: 0.6459 - acc: 0.6798 - val_loss: 0.6465 - val_acc: 0.6931\n",
      "Epoch 5/15\n",
      "64/64 [==============================] - 6s 95ms/step - loss: 0.6430 - acc: 0.6798 - val_loss: 0.6400 - val_acc: 0.6931\n",
      "Epoch 6/15\n",
      "64/64 [==============================] - 6s 96ms/step - loss: 0.6420 - acc: 0.6798 - val_loss: 0.6394 - val_acc: 0.6931\n",
      "Epoch 7/15\n",
      "64/64 [==============================] - 7s 108ms/step - loss: 0.6396 - acc: 0.6798 - val_loss: 0.6318 - val_acc: 0.6931\n",
      "Epoch 8/15\n",
      "64/64 [==============================] - 8s 127ms/step - loss: 0.6357 - acc: 0.6798 - val_loss: 0.6308 - val_acc: 0.6931\n",
      "Epoch 9/15\n",
      "64/64 [==============================] - 8s 120ms/step - loss: 0.6350 - acc: 0.6798 - val_loss: 0.6279 - val_acc: 0.6931\n",
      "Epoch 10/15\n",
      "64/64 [==============================] - 7s 114ms/step - loss: 0.6327 - acc: 0.6798 - val_loss: 0.6238 - val_acc: 0.6931\n",
      "Epoch 11/15\n",
      "64/64 [==============================] - 7s 103ms/step - loss: 0.6314 - acc: 0.6798 - val_loss: 0.6228 - val_acc: 0.6931\n",
      "Epoch 12/15\n",
      "64/64 [==============================] - 7s 107ms/step - loss: 0.6294 - acc: 0.6798 - val_loss: 0.6219 - val_acc: 0.6931\n",
      "Epoch 13/15\n",
      "64/64 [==============================] - 7s 113ms/step - loss: 0.6296 - acc: 0.6798 - val_loss: 0.6210 - val_acc: 0.6931\n",
      "Epoch 14/15\n",
      "64/64 [==============================] - 6s 100ms/step - loss: 0.6301 - acc: 0.6798 - val_loss: 0.6209 - val_acc: 0.6931\n",
      "Epoch 15/15\n",
      "64/64 [==============================] - 7s 113ms/step - loss: 0.6284 - acc: 0.6798 - val_loss: 0.6203 - val_acc: 0.6931\n"
     ]
    }
   ],
   "source": [
    "history_cnn = model_cnn.fit(x_train, y_train,\n",
    "                    epochs=15,\n",
    "                    batch_size=100,\n",
    "                    validation_split=0.2)"
   ]
  },
  {
   "cell_type": "code",
   "execution_count": 39,
   "id": "interior-business",
   "metadata": {},
   "outputs": [
    {
     "data": {
      "image/png": "[encoded data removed]",
      "text/plain": [
       "<Figure size 432x288 with 1 Axes>"
      ]
     },
     "metadata": {
      "needs_background": "light"
     },
     "output_type": "display_data"
    }
   ],
   "source": [
    "#plot model loss\n",
    "plt.plot(history_cnn.history['loss'], label = 'training_loss')\n",
    "plt.plot(history_cnn.history['val_loss'], label = 'val_loss')\n",
    "#圖例\n",
    "plt.legend(loc = 'upper right') \n",
    "plt.show()\n",
    "plt.close()"
   ]
  },
  {
   "cell_type": "code",
   "execution_count": 40,
   "id": "loose-bride",
   "metadata": {},
   "outputs": [
    {
     "data": {
      "image/png": "[encoded data removed]",
      "text/plain": [
       "<Figure size 432x288 with 1 Axes>"
      ]
     },
     "metadata": {
      "needs_background": "light"
     },
     "output_type": "display_data"
    }
   ],
   "source": [
    "#plot model loss\n",
    "plt.plot(history_cnn.history['acc'], label = 'training_acc')\n",
    "plt.plot(history_cnn.history['val_acc'], label = 'val_acc')\n",
    "#圖例\n",
    "plt.legend(loc = 'upper right') \n",
    "plt.show()\n",
    "plt.close()"
   ]
  },
  {
   "cell_type": "markdown",
   "id": "insured-century",
   "metadata": {},
   "source": [
    "#### 使用CNN (沒有Dropout Layer)"
   ]
  },
  {
   "cell_type": "code",
   "execution_count": 41,
   "id": "insured-clark",
   "metadata": {},
   "outputs": [
    {
     "name": "stdout",
     "output_type": "stream",
     "text": [
      "Model: \"sequential_3\"\n",
      "_________________________________________________________________\n",
      "Layer (type)                 Output Shape              Param #   \n",
      "=================================================================\n",
      "embedding_3 (Embedding)      (None, 200, 32)           320000    \n",
      "_________________________________________________________________\n",
      "conv1d_1 (Conv1D)            (None, 193, 32)           8224      \n",
      "_________________________________________________________________\n",
      "max_pooling1d_1 (MaxPooling1 (None, 96, 32)            0         \n",
      "_________________________________________________________________\n",
      "flatten_1 (Flatten)          (None, 3072)              0         \n",
      "_________________________________________________________________\n",
      "dense_6 (Dense)              (None, 5)                 15365     \n",
      "_________________________________________________________________\n",
      "dense_7 (Dense)              (None, 1)                 6         \n",
      "=================================================================\n",
      "Total params: 343,595\n",
      "Trainable params: 343,595\n",
      "Non-trainable params: 0\n",
      "_________________________________________________________________\n"
     ]
    }
   ],
   "source": [
    "# define model\n",
    "model_cnn_w = Sequential()\n",
    "model_cnn_w.add(Embedding(max_words, 32, input_length=maxlen))\n",
    "model_cnn_w.add(Conv1D(filters=32, kernel_size=8, activation='relu'))\n",
    "model_cnn_w.add(MaxPooling1D(pool_size=2))\n",
    "model_cnn_w.add(Flatten())\n",
    "model_cnn_w.add(Dense(5, activation='relu'))\n",
    "model_cnn_w.add(Dense(1, activation='sigmoid'))\n",
    "model_cnn_w.summary()"
   ]
  },
  {
   "cell_type": "code",
   "execution_count": 42,
   "id": "included-effect",
   "metadata": {},
   "outputs": [],
   "source": [
    "model_cnn_w.compile(optimizer='rmsprop',loss='binary_crossentropy',metrics=['acc'])"
   ]
  },
  {
   "cell_type": "code",
   "execution_count": 43,
   "id": "informal-chancellor",
   "metadata": {},
   "outputs": [
    {
     "name": "stdout",
     "output_type": "stream",
     "text": [
      "Epoch 1/15\n",
      "64/64 [==============================] - 2s 32ms/step - loss: 0.6330 - acc: 0.6742 - val_loss: 0.6204 - val_acc: 0.6931\n",
      "Epoch 2/15\n",
      "64/64 [==============================] - 2s 28ms/step - loss: 0.6291 - acc: 0.6798 - val_loss: 0.6185 - val_acc: 0.6931\n",
      "Epoch 3/15\n",
      "64/64 [==============================] - 2s 29ms/step - loss: 0.6287 - acc: 0.6798 - val_loss: 0.6240 - val_acc: 0.6931\n",
      "Epoch 4/15\n",
      "64/64 [==============================] - 2s 28ms/step - loss: 0.6283 - acc: 0.6798 - val_loss: 0.6166 - val_acc: 0.6931\n",
      "Epoch 5/15\n",
      "64/64 [==============================] - 2s 28ms/step - loss: 0.6287 - acc: 0.6798 - val_loss: 0.6166 - val_acc: 0.6931\n",
      "Epoch 6/15\n",
      "64/64 [==============================] - 2s 30ms/step - loss: 0.6286 - acc: 0.6798 - val_loss: 0.6180 - val_acc: 0.6931\n",
      "Epoch 7/15\n",
      "64/64 [==============================] - 2s 30ms/step - loss: 0.6281 - acc: 0.6798 - val_loss: 0.6175 - val_acc: 0.6931\n",
      "Epoch 8/15\n",
      "64/64 [==============================] - 2s 29ms/step - loss: 0.6282 - acc: 0.6798 - val_loss: 0.6177 - val_acc: 0.6931\n",
      "Epoch 9/15\n",
      "64/64 [==============================] - 2s 29ms/step - loss: 0.6286 - acc: 0.6798 - val_loss: 0.6179 - val_acc: 0.6931\n",
      "Epoch 10/15\n",
      "64/64 [==============================] - 2s 28ms/step - loss: 0.6285 - acc: 0.6798 - val_loss: 0.6208 - val_acc: 0.6931\n",
      "Epoch 11/15\n",
      "64/64 [==============================] - 2s 29ms/step - loss: 0.6284 - acc: 0.6798 - val_loss: 0.6179 - val_acc: 0.6931\n",
      "Epoch 12/15\n",
      "64/64 [==============================] - 2s 30ms/step - loss: 0.6282 - acc: 0.6798 - val_loss: 0.6194 - val_acc: 0.6931\n",
      "Epoch 13/15\n",
      "64/64 [==============================] - 2s 29ms/step - loss: 0.6281 - acc: 0.6798 - val_loss: 0.6179 - val_acc: 0.6931\n",
      "Epoch 14/15\n",
      "64/64 [==============================] - 2s 29ms/step - loss: 0.6285 - acc: 0.6798 - val_loss: 0.6178 - val_acc: 0.6931\n",
      "Epoch 15/15\n",
      "64/64 [==============================] - 2s 29ms/step - loss: 0.6284 - acc: 0.6798 - val_loss: 0.6181 - val_acc: 0.6931\n"
     ]
    }
   ],
   "source": [
    "history_cnn_w = model_cnn_w.fit(x_train, y_train,\n",
    "                    epochs=15,\n",
    "                    batch_size=100,\n",
    "                    validation_split=0.2)"
   ]
  },
  {
   "cell_type": "code",
   "execution_count": 44,
   "id": "particular-shooting",
   "metadata": {},
   "outputs": [
    {
     "data": {
      "image/png": "[encoded data removed]",
      "text/plain": [
       "<Figure size 432x288 with 1 Axes>"
      ]
     },
     "metadata": {
      "needs_background": "light"
     },
     "output_type": "display_data"
    }
   ],
   "source": [
    "#plot model loss\n",
    "plt.plot(history_cnn_w.history['loss'], label = 'training_loss')\n",
    "plt.plot(history_cnn_w.history['val_loss'], label = 'val_loss')\n",
    "#圖例\n",
    "plt.legend(loc = 'upper right') \n",
    "plt.show()\n",
    "plt.close()"
   ]
  },
  {
   "cell_type": "code",
   "execution_count": 45,
   "id": "complex-stopping",
   "metadata": {},
   "outputs": [
    {
     "data": {
      "image/png": "[encoded data removed]",
      "text/plain": [
       "<Figure size 432x288 with 1 Axes>"
      ]
     },
     "metadata": {
      "needs_background": "light"
     },
     "output_type": "display_data"
    }
   ],
   "source": [
    "#plot model loss\n",
    "plt.plot(history_cnn_w.history['acc'], label = 'training_acc')\n",
    "plt.plot(history_cnn_w.history['val_acc'], label = 'val_acc')\n",
    "#圖例\n",
    "plt.legend(loc = 'upper right') \n",
    "plt.show()\n",
    "plt.close()"
   ]
  },
  {
   "cell_type": "markdown",
   "id": "ranging-radiation",
   "metadata": {},
   "source": [
    "## Evaluate Model "
   ]
  },
  {
   "cell_type": "code",
   "execution_count": 46,
   "id": "focused-frederick",
   "metadata": {},
   "outputs": [
    {
     "name": "stdout",
     "output_type": "stream",
     "text": [
      "63/63 [==============================] - 1s 22ms/step - loss: 0.6107 - acc: 0.7015\n"
     ]
    },
    {
     "data": {
      "text/plain": [
       "[0.6106881499290466, 0.7014999985694885]"
      ]
     },
     "execution_count": 46,
     "metadata": {},
     "output_type": "execute_result"
    }
   ],
   "source": [
    "model_lstm.evaluate(x_test, y_test)"
   ]
  },
  {
   "cell_type": "code",
   "execution_count": 47,
   "id": "infinite-concrete",
   "metadata": {},
   "outputs": [
    {
     "name": "stdout",
     "output_type": "stream",
     "text": [
      "63/63 [==============================] - 1s 15ms/step - loss: 0.6123 - acc: 0.7015\n"
     ]
    },
    {
     "data": {
      "text/plain": [
       "[0.6122620701789856, 0.7014999985694885]"
      ]
     },
     "execution_count": 47,
     "metadata": {},
     "output_type": "execute_result"
    }
   ],
   "source": [
    "model_lstm_w.evaluate(x_test, y_test)"
   ]
  },
  {
   "cell_type": "code",
   "execution_count": 48,
   "id": "choice-turning",
   "metadata": {},
   "outputs": [
    {
     "name": "stdout",
     "output_type": "stream",
     "text": [
      "63/63 [==============================] - 0s 6ms/step - loss: 0.6150 - acc: 0.7015\n"
     ]
    },
    {
     "data": {
      "text/plain": [
       "[0.614971399307251, 0.7014999985694885]"
      ]
     },
     "execution_count": 48,
     "metadata": {},
     "output_type": "execute_result"
    }
   ],
   "source": [
    "model_cnn.evaluate(x_test, y_test)"
   ]
  },
  {
   "cell_type": "code",
   "execution_count": 49,
   "id": "proprietary-conjunction",
   "metadata": {},
   "outputs": [
    {
     "name": "stdout",
     "output_type": "stream",
     "text": [
      "63/63 [==============================] - 0s 4ms/step - loss: 0.6123 - acc: 0.7015\n"
     ]
    },
    {
     "data": {
      "text/plain": [
       "[0.612251877784729, 0.7014999985694885]"
      ]
     },
     "execution_count": 49,
     "metadata": {},
     "output_type": "execute_result"
    }
   ],
   "source": [
    "model_cnn_w.evaluate(x_test, y_test)"
   ]
  },
  {
   "cell_type": "markdown",
   "id": "super-myanmar",
   "metadata": {},
   "source": [
    "- 使用Tokenizer轉向量的方法"
   ]
  },
  {
   "cell_type": "code",
   "execution_count": 50,
   "id": "continuing-trash",
   "metadata": {},
   "outputs": [],
   "source": [
    "y = df['stars']\n",
    "x = data_input\n",
    "x_train,x_test,y_train,y_test = train_test_split(x,y,random_state=42,test_size=0.2)"
   ]
  },
  {
   "cell_type": "code",
   "execution_count": 51,
   "id": "twelve-calgary",
   "metadata": {},
   "outputs": [
    {
     "name": "stdout",
     "output_type": "stream",
     "text": [
      "(8000, 200)\n",
      "(2000, 200)\n",
      "(8000,)\n",
      "(2000,)\n"
     ]
    }
   ],
   "source": [
    "print(x_train.shape)\n",
    "print(x_test.shape)\n",
    "print(y_train.shape)\n",
    "print(y_test.shape)"
   ]
  },
  {
   "cell_type": "markdown",
   "id": "sensitive-shame",
   "metadata": {},
   "source": [
    "####  使用LSTM (有Dropout Layer)"
   ]
  },
  {
   "cell_type": "code",
   "execution_count": 52,
   "id": "attractive-passenger",
   "metadata": {},
   "outputs": [
    {
     "name": "stdout",
     "output_type": "stream",
     "text": [
      "Model: \"sequential_4\"\n",
      "_________________________________________________________________\n",
      "Layer (type)                 Output Shape              Param #   \n",
      "=================================================================\n",
      "embedding_4 (Embedding)      (None, 200, 64)           64000     \n",
      "_________________________________________________________________\n",
      "dropout_6 (Dropout)          (None, 200, 64)           0         \n",
      "_________________________________________________________________\n",
      "lstm_2 (LSTM)                (None, 10)                3000      \n",
      "_________________________________________________________________\n",
      "dense_8 (Dense)              (None, 10)                110       \n",
      "_________________________________________________________________\n",
      "dropout_7 (Dropout)          (None, 10)                0         \n",
      "_________________________________________________________________\n",
      "dense_9 (Dense)              (None, 1)                 11        \n",
      "=================================================================\n",
      "Total params: 67,121\n",
      "Trainable params: 67,121\n",
      "Non-trainable params: 0\n",
      "_________________________________________________________________\n"
     ]
    }
   ],
   "source": [
    "max_words = 1000 \n",
    "maxlen = 200\n",
    "model_lstm = Sequential()\n",
    "model_lstm.add(Embedding(output_dim = 64,input_dim = max_words,input_length = maxlen))\n",
    "model_lstm.add(Dropout(0.7))\n",
    "model_lstm.add(LSTM(10,dropout=0.7))\n",
    "model_lstm.add(Dense(10,activation = 'relu'))\n",
    "model_lstm.add(Dropout(0.7))\n",
    "model_lstm.add(Dense(1, activation='sigmoid'))\n",
    "model_lstm.summary()"
   ]
  },
  {
   "cell_type": "code",
   "execution_count": 53,
   "id": "laden-wheel",
   "metadata": {},
   "outputs": [],
   "source": [
    "#opt = keras.optimizers.Adam(learning_rate=0.01)\n",
    "model_lstm.compile(optimizer='rmsprop',loss='binary_crossentropy',metrics=['acc'])"
   ]
  },
  {
   "cell_type": "code",
   "execution_count": 54,
   "id": "developing-world",
   "metadata": {},
   "outputs": [
    {
     "name": "stdout",
     "output_type": "stream",
     "text": [
      "Epoch 1/18\n",
      "59/59 [==============================] - 10s 162ms/step - loss: 0.6719 - acc: 0.6581 - val_loss: 0.6291 - val_acc: 0.6931\n",
      "Epoch 2/18\n",
      "59/59 [==============================] - 8s 134ms/step - loss: 0.6448 - acc: 0.6798 - val_loss: 0.6202 - val_acc: 0.6931\n",
      "Epoch 3/18\n",
      "59/59 [==============================] - 6s 108ms/step - loss: 0.6327 - acc: 0.6798 - val_loss: 0.5974 - val_acc: 0.6931\n",
      "Epoch 4/18\n",
      "59/59 [==============================] - 6s 105ms/step - loss: 0.5992 - acc: 0.6928 - val_loss: 0.5473 - val_acc: 0.7175\n",
      "Epoch 5/18\n",
      "59/59 [==============================] - 6s 104ms/step - loss: 0.5621 - acc: 0.7272 - val_loss: 0.4862 - val_acc: 0.7806\n",
      "Epoch 6/18\n",
      "59/59 [==============================] - 6s 109ms/step - loss: 0.5364 - acc: 0.7552 - val_loss: 0.4797 - val_acc: 0.7744\n",
      "Epoch 7/18\n",
      "59/59 [==============================] - 8s 139ms/step - loss: 0.5158 - acc: 0.7631 - val_loss: 0.4550 - val_acc: 0.7825\n",
      "Epoch 8/18\n",
      "59/59 [==============================] - 7s 113ms/step - loss: 0.5001 - acc: 0.7714 - val_loss: 0.4367 - val_acc: 0.8037\n",
      "Epoch 9/18\n",
      "59/59 [==============================] - 7s 115ms/step - loss: 0.4946 - acc: 0.7883 - val_loss: 0.4493 - val_acc: 0.8012\n",
      "Epoch 10/18\n",
      "59/59 [==============================] - 7s 110ms/step - loss: 0.4863 - acc: 0.7845 - val_loss: 0.4336 - val_acc: 0.7912\n",
      "Epoch 11/18\n",
      "59/59 [==============================] - 7s 113ms/step - loss: 0.4821 - acc: 0.7922 - val_loss: 0.4296 - val_acc: 0.8006\n",
      "Epoch 12/18\n",
      "59/59 [==============================] - 6s 109ms/step - loss: 0.4712 - acc: 0.7894 - val_loss: 0.4186 - val_acc: 0.8081\n",
      "Epoch 13/18\n",
      "59/59 [==============================] - 7s 119ms/step - loss: 0.4685 - acc: 0.7973 - val_loss: 0.4305 - val_acc: 0.7994\n",
      "Epoch 14/18\n",
      "59/59 [==============================] - 7s 122ms/step - loss: 0.4735 - acc: 0.7995 - val_loss: 0.4263 - val_acc: 0.8081\n",
      "Epoch 15/18\n",
      "59/59 [==============================] - 8s 131ms/step - loss: 0.4540 - acc: 0.8022 - val_loss: 0.4108 - val_acc: 0.8156\n",
      "Epoch 16/18\n",
      "59/59 [==============================] - 7s 118ms/step - loss: 0.4561 - acc: 0.8008 - val_loss: 0.4372 - val_acc: 0.8106\n",
      "Epoch 17/18\n",
      "59/59 [==============================] - 7s 115ms/step - loss: 0.4456 - acc: 0.8056 - val_loss: 0.4111 - val_acc: 0.8138\n",
      "Epoch 18/18\n",
      "59/59 [==============================] - 7s 123ms/step - loss: 0.4426 - acc: 0.8066 - val_loss: 0.4572 - val_acc: 0.8069\n"
     ]
    }
   ],
   "source": [
    "history_lstm = model_lstm.fit(x_train, y_train,\n",
    "                    epochs=18,\n",
    "                    batch_size=110,\n",
    "                    validation_split=0.2)"
   ]
  },
  {
   "cell_type": "code",
   "execution_count": 55,
   "id": "pending-cleveland",
   "metadata": {},
   "outputs": [
    {
     "data": {
      "image/png": "[encoded data removed]",
      "text/plain": [
       "<Figure size 432x288 with 1 Axes>"
      ]
     },
     "metadata": {
      "needs_background": "light"
     },
     "output_type": "display_data"
    }
   ],
   "source": [
    "#plot model loss\n",
    "plt.plot(history_lstm.history['loss'], label = 'training_loss')\n",
    "plt.plot(history_lstm.history['val_loss'], label = 'val_loss')\n",
    "#圖例\n",
    "plt.legend(loc = 'upper right') \n",
    "plt.show()\n",
    "plt.close()"
   ]
  },
  {
   "cell_type": "code",
   "execution_count": 56,
   "id": "protected-faculty",
   "metadata": {},
   "outputs": [
    {
     "data": {
      "image/png": "[encoded data removed]",
      "text/plain": [
       "<Figure size 432x288 with 1 Axes>"
      ]
     },
     "metadata": {
      "needs_background": "light"
     },
     "output_type": "display_data"
    }
   ],
   "source": [
    "#plot model loss\n",
    "plt.plot(history_lstm.history['acc'], label = 'training_acc')\n",
    "plt.plot(history_lstm.history['val_acc'], label = 'val_acc')\n",
    "#圖例\n",
    "plt.legend(loc = 'upper right') \n",
    "plt.show()\n",
    "plt.close()"
   ]
  },
  {
   "cell_type": "code",
   "execution_count": 57,
   "id": "seven-activation",
   "metadata": {},
   "outputs": [
    {
     "name": "stdout",
     "output_type": "stream",
     "text": [
      "63/63 [==============================] - 1s 13ms/step - loss: 0.4543 - acc: 0.8050\n"
     ]
    },
    {
     "data": {
      "text/plain": [
       "[0.4543452858924866, 0.8050000071525574]"
      ]
     },
     "execution_count": 57,
     "metadata": {},
     "output_type": "execute_result"
    }
   ],
   "source": [
    "model_lstm.evaluate(x_test, y_test)"
   ]
  },
  {
   "cell_type": "markdown",
   "id": "filled-department",
   "metadata": {},
   "source": [
    "####  使用LSTM (沒有Dropout Layer)"
   ]
  },
  {
   "cell_type": "code",
   "execution_count": 58,
   "id": "flush-diana",
   "metadata": {},
   "outputs": [
    {
     "name": "stdout",
     "output_type": "stream",
     "text": [
      "Model: \"sequential_5\"\n",
      "_________________________________________________________________\n",
      "Layer (type)                 Output Shape              Param #   \n",
      "=================================================================\n",
      "embedding_5 (Embedding)      (None, 200, 32)           32000     \n",
      "_________________________________________________________________\n",
      "lstm_3 (LSTM)                (None, 10)                1720      \n",
      "_________________________________________________________________\n",
      "dense_10 (Dense)             (None, 10)                110       \n",
      "_________________________________________________________________\n",
      "dense_11 (Dense)             (None, 1)                 11        \n",
      "=================================================================\n",
      "Total params: 33,841\n",
      "Trainable params: 33,841\n",
      "Non-trainable params: 0\n",
      "_________________________________________________________________\n"
     ]
    }
   ],
   "source": [
    "max_words = 1000 \n",
    "maxlen = 200\n",
    "model_lstm_w = Sequential()\n",
    "model_lstm_w.add(Embedding(max_words, 32,input_length = maxlen))\n",
    "model_lstm_w.add(LSTM(10))\n",
    "model_lstm_w.add(Dense(10, activation='relu'))\n",
    "model_lstm_w.add(Dense(1, activation='sigmoid'))\n",
    "model_lstm_w.summary()"
   ]
  },
  {
   "cell_type": "code",
   "execution_count": 59,
   "id": "broad-grammar",
   "metadata": {},
   "outputs": [],
   "source": [
    "from keras.optimizers import SGD\n",
    "#opt = SGD(lr=0.01, momentum=0.9, clipvalue=1)\n",
    "#opt = keras.optimizers.RMSprop(learning_rate=0.01)\n",
    "model_lstm_w.compile(optimizer= 'adam',\n",
    "              loss='binary_crossentropy',\n",
    "              metrics=['acc'])"
   ]
  },
  {
   "cell_type": "code",
   "execution_count": 60,
   "id": "proved-birmingham",
   "metadata": {},
   "outputs": [
    {
     "name": "stdout",
     "output_type": "stream",
     "text": [
      "Epoch 1/9\n",
      "64/64 [==============================] - 4s 67ms/step - loss: 0.6300 - acc: 0.6744 - val_loss: 0.5828 - val_acc: 0.6931\n",
      "Epoch 2/9\n",
      "64/64 [==============================] - 3s 54ms/step - loss: 0.5270 - acc: 0.7156 - val_loss: 0.5025 - val_acc: 0.7606\n",
      "Epoch 3/9\n",
      "64/64 [==============================] - 3s 52ms/step - loss: 0.4371 - acc: 0.8070 - val_loss: 0.4570 - val_acc: 0.7850\n",
      "Epoch 4/9\n",
      "64/64 [==============================] - 4s 64ms/step - loss: 0.3819 - acc: 0.8367 - val_loss: 0.4377 - val_acc: 0.7819\n",
      "Epoch 5/9\n",
      "64/64 [==============================] - 4s 55ms/step - loss: 0.3544 - acc: 0.8514 - val_loss: 0.4382 - val_acc: 0.7825\n",
      "Epoch 6/9\n",
      "64/64 [==============================] - 3s 54ms/step - loss: 0.3385 - acc: 0.8586 - val_loss: 0.4403 - val_acc: 0.7969\n",
      "Epoch 7/9\n",
      "64/64 [==============================] - 4s 57ms/step - loss: 0.3214 - acc: 0.8658 - val_loss: 0.4476 - val_acc: 0.7969\n",
      "Epoch 8/9\n",
      "64/64 [==============================] - 4s 63ms/step - loss: 0.3122 - acc: 0.8745 - val_loss: 0.4540 - val_acc: 0.7969\n",
      "Epoch 9/9\n",
      "64/64 [==============================] - 3s 52ms/step - loss: 0.3004 - acc: 0.8806 - val_loss: 0.4677 - val_acc: 0.8069\n"
     ]
    }
   ],
   "source": [
    "history_lstm_w = model_lstm_w.fit(x_train, y_train,epochs=9,batch_size=100,validation_split=0.2)"
   ]
  },
  {
   "cell_type": "code",
   "execution_count": 61,
   "id": "blessed-confidentiality",
   "metadata": {},
   "outputs": [
    {
     "data": {
      "image/png": "[encoded data removed]",
      "text/plain": [
       "<Figure size 432x288 with 1 Axes>"
      ]
     },
     "metadata": {
      "needs_background": "light"
     },
     "output_type": "display_data"
    }
   ],
   "source": [
    "#plot model loss\n",
    "plt.plot(history_lstm_w.history['loss'], label = 'training_loss')\n",
    "plt.plot(history_lstm_w.history['val_loss'], label = 'val_loss')\n",
    "#圖例\n",
    "plt.legend(loc = 'upper right') \n",
    "plt.show()\n",
    "plt.close()"
   ]
  },
  {
   "cell_type": "code",
   "execution_count": 62,
   "id": "hybrid-teacher",
   "metadata": {},
   "outputs": [
    {
     "data": {
      "image/png": "[encoded data removed]",
      "text/plain": [
       "<Figure size 432x288 with 1 Axes>"
      ]
     },
     "metadata": {
      "needs_background": "light"
     },
     "output_type": "display_data"
    }
   ],
   "source": [
    "#plot model loss\n",
    "plt.plot(history_lstm_w.history['acc'], label = 'training_acc')\n",
    "plt.plot(history_lstm_w.history['val_acc'], label = 'val_acc')\n",
    "#圖例\n",
    "plt.legend(loc = 'upper right') \n",
    "plt.show()\n",
    "plt.close()"
   ]
  },
  {
   "cell_type": "code",
   "execution_count": 63,
   "id": "furnished-banking",
   "metadata": {},
   "outputs": [
    {
     "name": "stdout",
     "output_type": "stream",
     "text": [
      "63/63 [==============================] - 1s 14ms/step - loss: 0.4647 - acc: 0.8020\n"
     ]
    },
    {
     "data": {
      "text/plain": [
       "[0.46466922760009766, 0.8019999861717224]"
      ]
     },
     "execution_count": 63,
     "metadata": {},
     "output_type": "execute_result"
    }
   ],
   "source": [
    "model_lstm_w.evaluate(x_test, y_test)"
   ]
  },
  {
   "cell_type": "markdown",
   "id": "pregnant-albany",
   "metadata": {},
   "source": [
    "#### 使用CNN (有Dropout Layer)"
   ]
  },
  {
   "cell_type": "code",
   "execution_count": 104,
   "id": "devoted-enlargement",
   "metadata": {},
   "outputs": [
    {
     "name": "stdout",
     "output_type": "stream",
     "text": [
      "Model: \"sequential_10\"\n",
      "_________________________________________________________________\n",
      "Layer (type)                 Output Shape              Param #   \n",
      "=================================================================\n",
      "embedding_10 (Embedding)     (None, 200, 64)           64000     \n",
      "_________________________________________________________________\n",
      "conv1d_6 (Conv1D)            (None, 197, 64)           16448     \n",
      "_________________________________________________________________\n",
      "dropout_18 (Dropout)         (None, 197, 64)           0         \n",
      "_________________________________________________________________\n",
      "max_pooling1d_6 (MaxPooling1 (None, 98, 64)            0         \n",
      "_________________________________________________________________\n",
      "flatten_6 (Flatten)          (None, 6272)              0         \n",
      "_________________________________________________________________\n",
      "dropout_19 (Dropout)         (None, 6272)              0         \n",
      "_________________________________________________________________\n",
      "dense_20 (Dense)             (None, 32)                200736    \n",
      "_________________________________________________________________\n",
      "dropout_20 (Dropout)         (None, 32)                0         \n",
      "_________________________________________________________________\n",
      "dense_21 (Dense)             (None, 1)                 33        \n",
      "=================================================================\n",
      "Total params: 281,217\n",
      "Trainable params: 281,217\n",
      "Non-trainable params: 0\n",
      "_________________________________________________________________\n"
     ]
    }
   ],
   "source": [
    "# define model\n",
    "model_cnn = Sequential()\n",
    "model_cnn.add(Embedding(max_words, 64, input_length=maxlen))\n",
    "#model_cnn.add(Dropout(0.7))\n",
    "model_cnn.add(Conv1D(filters=64, kernel_size=4, activation='relu'))\n",
    "model_cnn.add(Dropout(0.7))\n",
    "model_cnn.add(MaxPooling1D(pool_size=2))\n",
    "model_cnn.add(Flatten())\n",
    "model_cnn.add(Dropout(0.7))\n",
    "model_cnn.add(Dense(32, activation='relu'))\n",
    "model_cnn.add(Dropout(0.7))\n",
    "model_cnn.add(Dense(1, activation='sigmoid'))\n",
    "model_cnn.summary()"
   ]
  },
  {
   "cell_type": "code",
   "execution_count": 105,
   "id": "corporate-danger",
   "metadata": {},
   "outputs": [],
   "source": [
    "#opt = keras.optimizers.RMSprop(learning_rate=0.001)\n",
    "#from keras.optimizers import SGD\n",
    "#opt = SGD(lr=0.001, momentum=0.9, clipvalue=1)\n",
    "model_cnn.compile(optimizer='rmsprop',loss='binary_crossentropy',metrics=['acc'])"
   ]
  },
  {
   "cell_type": "code",
   "execution_count": 106,
   "id": "informal-jumping",
   "metadata": {},
   "outputs": [
    {
     "name": "stdout",
     "output_type": "stream",
     "text": [
      "Epoch 1/14\n",
      "64/64 [==============================] - 4s 69ms/step - loss: 0.6397 - acc: 0.6767 - val_loss: 0.6318 - val_acc: 0.6931\n",
      "Epoch 2/14\n",
      "64/64 [==============================] - 4s 65ms/step - loss: 0.6278 - acc: 0.6800 - val_loss: 0.6050 - val_acc: 0.6931\n",
      "Epoch 3/14\n",
      "64/64 [==============================] - 4s 65ms/step - loss: 0.6040 - acc: 0.6803 - val_loss: 0.5622 - val_acc: 0.6931\n",
      "Epoch 4/14\n",
      "64/64 [==============================] - 4s 65ms/step - loss: 0.5330 - acc: 0.6998 - val_loss: 0.4820 - val_acc: 0.7513\n",
      "Epoch 5/14\n",
      "64/64 [==============================] - 5s 76ms/step - loss: 0.4830 - acc: 0.7663 - val_loss: 0.4470 - val_acc: 0.7975\n",
      "Epoch 6/14\n",
      "64/64 [==============================] - 5s 77ms/step - loss: 0.4431 - acc: 0.8000 - val_loss: 0.4327 - val_acc: 0.8081\n",
      "Epoch 7/14\n",
      "64/64 [==============================] - 5s 76ms/step - loss: 0.4264 - acc: 0.8131 - val_loss: 0.4267 - val_acc: 0.8075\n",
      "Epoch 8/14\n",
      "64/64 [==============================] - 5s 76ms/step - loss: 0.4116 - acc: 0.8228 - val_loss: 0.4571 - val_acc: 0.7944\n",
      "Epoch 9/14\n",
      "64/64 [==============================] - 5s 76ms/step - loss: 0.3990 - acc: 0.8280 - val_loss: 0.4288 - val_acc: 0.8050\n",
      "Epoch 10/14\n",
      "64/64 [==============================] - 5s 79ms/step - loss: 0.3883 - acc: 0.8358 - val_loss: 0.4200 - val_acc: 0.8131\n",
      "Epoch 11/14\n",
      "64/64 [==============================] - 5s 78ms/step - loss: 0.3756 - acc: 0.8448 - val_loss: 0.4174 - val_acc: 0.8094\n",
      "Epoch 12/14\n",
      "64/64 [==============================] - 5s 76ms/step - loss: 0.3666 - acc: 0.8464 - val_loss: 0.4179 - val_acc: 0.8163\n",
      "Epoch 13/14\n",
      "64/64 [==============================] - 5s 75ms/step - loss: 0.3609 - acc: 0.8475 - val_loss: 0.4265 - val_acc: 0.8125\n",
      "Epoch 14/14\n",
      "64/64 [==============================] - 5s 78ms/step - loss: 0.3539 - acc: 0.8550 - val_loss: 0.4209 - val_acc: 0.8125\n"
     ]
    }
   ],
   "source": [
    "history_cnn = model_cnn.fit(x_train, y_train,\n",
    "                    epochs=14,\n",
    "                    batch_size=100,\n",
    "                    validation_split=0.2)"
   ]
  },
  {
   "cell_type": "code",
   "execution_count": 107,
   "id": "endangered-fleet",
   "metadata": {},
   "outputs": [
    {
     "data": {
      "image/png": "[encoded data removed]",
      "text/plain": [
       "<Figure size 432x288 with 1 Axes>"
      ]
     },
     "metadata": {
      "needs_background": "light"
     },
     "output_type": "display_data"
    }
   ],
   "source": [
    "#plot model loss\n",
    "plt.plot(history_cnn.history['loss'], label = 'training_loss')\n",
    "plt.plot(history_cnn.history['val_loss'], label = 'val_loss')\n",
    "#圖例\n",
    "plt.legend(loc = 'upper right') \n",
    "plt.show()\n",
    "plt.close()"
   ]
  },
  {
   "cell_type": "code",
   "execution_count": 108,
   "id": "reduced-hostel",
   "metadata": {},
   "outputs": [
    {
     "data": {
      "image/png": "[encoded data removed]",
      "text/plain": [
       "<Figure size 432x288 with 1 Axes>"
      ]
     },
     "metadata": {
      "needs_background": "light"
     },
     "output_type": "display_data"
    }
   ],
   "source": [
    "#plot model loss\n",
    "plt.plot(history_cnn.history['acc'], label = 'training_acc')\n",
    "plt.plot(history_cnn.history['val_acc'], label = 'val_acc')\n",
    "#圖例\n",
    "plt.legend(loc = 'upper right') \n",
    "plt.show()\n",
    "plt.close()"
   ]
  },
  {
   "cell_type": "code",
   "execution_count": 109,
   "id": "veterinary-death",
   "metadata": {},
   "outputs": [
    {
     "name": "stdout",
     "output_type": "stream",
     "text": [
      "63/63 [==============================] - 0s 6ms/step - loss: 0.4290 - acc: 0.8115\n"
     ]
    },
    {
     "data": {
      "text/plain": [
       "[0.4289551079273224, 0.8115000128746033]"
      ]
     },
     "execution_count": 109,
     "metadata": {},
     "output_type": "execute_result"
    }
   ],
   "source": [
    "model_cnn.evaluate(x_test, y_test)"
   ]
  },
  {
   "cell_type": "markdown",
   "id": "structural-refrigerator",
   "metadata": {},
   "source": [
    "#### 使用CNN (沒有Dropout Layer)"
   ]
  },
  {
   "cell_type": "code",
   "execution_count": 70,
   "id": "early-reggae",
   "metadata": {},
   "outputs": [
    {
     "name": "stdout",
     "output_type": "stream",
     "text": [
      "Model: \"sequential_7\"\n",
      "_________________________________________________________________\n",
      "Layer (type)                 Output Shape              Param #   \n",
      "=================================================================\n",
      "embedding_7 (Embedding)      (None, 200, 64)           64000     \n",
      "_________________________________________________________________\n",
      "conv1d_3 (Conv1D)            (None, 193, 32)           16416     \n",
      "_________________________________________________________________\n",
      "max_pooling1d_3 (MaxPooling1 (None, 96, 32)            0         \n",
      "_________________________________________________________________\n",
      "flatten_3 (Flatten)          (None, 3072)              0         \n",
      "_________________________________________________________________\n",
      "dense_14 (Dense)             (None, 10)                30730     \n",
      "_________________________________________________________________\n",
      "dense_15 (Dense)             (None, 1)                 11        \n",
      "=================================================================\n",
      "Total params: 111,157\n",
      "Trainable params: 111,157\n",
      "Non-trainable params: 0\n",
      "_________________________________________________________________\n"
     ]
    }
   ],
   "source": [
    "# define model\n",
    "model_cnn_w = Sequential()\n",
    "model_cnn_w.add(Embedding(max_words, 64, input_length=maxlen))\n",
    "model_cnn_w.add(Conv1D(filters=32, kernel_size=8, activation='relu'))\n",
    "model_cnn_w.add(MaxPooling1D(pool_size=2))\n",
    "model_cnn_w.add(Flatten())\n",
    "model_cnn_w.add(Dense(10, activation='relu'))\n",
    "model_cnn_w.add(Dense(1, activation='sigmoid'))\n",
    "model_cnn_w.summary()"
   ]
  },
  {
   "cell_type": "code",
   "execution_count": 71,
   "id": "brief-uniform",
   "metadata": {},
   "outputs": [],
   "source": [
    "model_cnn_w.compile(optimizer='rmsprop',loss='binary_crossentropy',metrics=['acc'])"
   ]
  },
  {
   "cell_type": "code",
   "execution_count": 72,
   "id": "polish-satisfaction",
   "metadata": {},
   "outputs": [
    {
     "name": "stdout",
     "output_type": "stream",
     "text": [
      "Epoch 1/7\n",
      "64/64 [==============================] - 4s 66ms/step - loss: 0.5985 - acc: 0.6803 - val_loss: 0.5006 - val_acc: 0.7500\n",
      "Epoch 2/7\n",
      "64/64 [==============================] - 4s 55ms/step - loss: 0.4625 - acc: 0.7919 - val_loss: 0.4624 - val_acc: 0.8000\n",
      "Epoch 3/7\n",
      "64/64 [==============================] - 4s 57ms/step - loss: 0.4125 - acc: 0.8409 - val_loss: 0.4454 - val_acc: 0.8087\n",
      "Epoch 4/7\n",
      "64/64 [==============================] - 4s 58ms/step - loss: 0.3830 - acc: 0.8542 - val_loss: 0.4458 - val_acc: 0.8087\n",
      "Epoch 5/7\n",
      "64/64 [==============================] - 4s 68ms/step - loss: 0.3590 - acc: 0.8712 - val_loss: 0.4465 - val_acc: 0.8087\n",
      "Epoch 6/7\n",
      "64/64 [==============================] - 5s 79ms/step - loss: 0.3353 - acc: 0.8811 - val_loss: 0.4517 - val_acc: 0.8081\n",
      "Epoch 7/7\n",
      "64/64 [==============================] - 4s 69ms/step - loss: 0.3070 - acc: 0.8984 - val_loss: 0.4688 - val_acc: 0.8200\n"
     ]
    }
   ],
   "source": [
    "history_cnn_w = model_cnn_w.fit(x_train, y_train,\n",
    "                    epochs=7,\n",
    "                    batch_size=100,\n",
    "                    validation_split=0.2)"
   ]
  },
  {
   "cell_type": "code",
   "execution_count": 73,
   "id": "electronic-harassment",
   "metadata": {},
   "outputs": [
    {
     "data": {
      "image/png": "[encoded data removed]",
      "text/plain": [
       "<Figure size 432x288 with 1 Axes>"
      ]
     },
     "metadata": {
      "needs_background": "light"
     },
     "output_type": "display_data"
    }
   ],
   "source": [
    "#plot model loss\n",
    "plt.plot(history_cnn_w.history['loss'], label = 'training_loss')\n",
    "plt.plot(history_cnn_w.history['val_loss'], label = 'val_loss')\n",
    "#圖例\n",
    "plt.legend(loc = 'upper right') \n",
    "plt.show()\n",
    "plt.close()"
   ]
  },
  {
   "cell_type": "code",
   "execution_count": 74,
   "id": "cutting-likelihood",
   "metadata": {},
   "outputs": [
    {
     "data": {
      "image/png": "[encoded data removed]",
      "text/plain": [
       "<Figure size 432x288 with 1 Axes>"
      ]
     },
     "metadata": {
      "needs_background": "light"
     },
     "output_type": "display_data"
    }
   ],
   "source": [
    "#plot model loss\n",
    "plt.plot(history_cnn_w.history['acc'], label = 'training_acc')\n",
    "plt.plot(history_cnn_w.history['val_acc'], label = 'val_acc')\n",
    "#圖例\n",
    "plt.legend(loc = 'upper right') \n",
    "plt.show()\n",
    "plt.close()"
   ]
  },
  {
   "cell_type": "code",
   "execution_count": 75,
   "id": "honey-shade",
   "metadata": {},
   "outputs": [
    {
     "name": "stdout",
     "output_type": "stream",
     "text": [
      "63/63 [==============================] - 0s 5ms/step - loss: 0.4707 - acc: 0.8050\n"
     ]
    },
    {
     "data": {
      "text/plain": [
       "[0.4706825017929077, 0.8050000071525574]"
      ]
     },
     "execution_count": 75,
     "metadata": {},
     "output_type": "execute_result"
    }
   ],
   "source": [
    "model_cnn_w.evaluate(x_test, y_test)"
   ]
  },
  {
   "cell_type": "code",
   "execution_count": null,
   "id": "naughty-comedy",
   "metadata": {},
   "outputs": [],
   "source": []
  }
 ],
 "metadata": {
  "kernelspec": {
   "display_name": "Python 3",
   "language": "python",
   "name": "python3"
  },
  "language_info": {
   "codemirror_mode": {
    "name": "ipython",
    "version": 3
   },
   "file_extension": ".py",
   "mimetype": "text/x-python",
   "name": "python",
   "nbconvert_exporter": "python",
   "pygments_lexer": "ipython3",
   "version": "3.7.9"
  }
 },
 "nbformat": 4,
 "nbformat_minor": 5
}
